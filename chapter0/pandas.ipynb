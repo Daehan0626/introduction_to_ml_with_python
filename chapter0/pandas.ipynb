{
 "nbformat": 4,
 "nbformat_minor": 2,
 "metadata": {
  "language_info": {
   "name": "python",
   "codemirror_mode": {
    "name": "ipython",
    "version": 3
   },
   "version": "3.6.10-final"
  },
  "orig_nbformat": 2,
  "file_extension": ".py",
  "mimetype": "text/x-python",
  "name": "python",
  "npconvert_exporter": "python",
  "pygments_lexer": "ipython3",
  "version": 3,
  "kernelspec": {
   "name": "python361064bittfv1condaceb7e72d0f1b41d0a881f7856e8750f5",
   "display_name": "Python 3.6.10 64-bit ('tf_v1': conda)"
  }
 },
 "cells": [
  {
   "cell_type": "markdown",
   "metadata": {},
   "source": [
    "# 1. Pandas란?\n",
    "## pandas 사용하기 "
   ]
  },
  {
   "cell_type": "code",
   "execution_count": 37,
   "metadata": {},
   "outputs": [
    {
     "data": {
      "text/plain": "'1.0.1'"
     },
     "execution_count": 37,
     "metadata": {},
     "output_type": "execute_result"
    }
   ],
   "source": [
    "\n",
    "import numpy as np \n",
    "import pandas as pd \n",
    "\n",
    "pd.__version__\n"
   ]
  },
  {
   "cell_type": "markdown",
   "metadata": {},
   "source": [
    "# 2.Pandas 자료구조\n",
    "## \"Series\"와 \"Data Frame\" \n",
    "## 2-1 Series"
   ]
  },
  {
   "cell_type": "code",
   "execution_count": 22,
   "metadata": {},
   "outputs": [
    {
     "name": "stdout",
     "output_type": "stream",
     "text": "0    4\n1    7\n2   -5\n3    3\ndtype: int64\n[ 4  7 -5  3]\nRangeIndex(start=0, stop=4, step=1)\nint64\nd    4\nb    7\na   -5\nc    3\ndtype: int64\nKim         35000\nDaehan      67000\nTaewoo      12000\nDonghyun     4000\ndtype: int64\nA    35000\nB    67000\nC    12000\nD     4000\ndtype: int64\n"
    }
   ],
   "source": [
    "import numpy as np \n",
    "import pandas as pd \n",
    "\n",
    "# Series 정의\n",
    "\n",
    "obj = pd.Series([4,7,-5,3])\n",
    "print(obj)\n",
    "\n",
    "#값, 인덱스, 타입 확인\n",
    "print(obj.values)\n",
    "print(obj.index)\n",
    "print(obj.dtypes)\n",
    "\n",
    "obj2 = pd.Series([4,7,-5,3],index=['d','b','a','c'])\n",
    "print(obj2)\n",
    "\n",
    "#dictionay -> Series data\n",
    "#key -> idx\n",
    "#value -> value\n",
    "\n",
    "sdata = {'Kim':35000, \"Daehan\":67000, 'Taewoo':12000,'Donghyun':4000}\n",
    "obj3 = pd.Series(sdata)\n",
    "print(obj3)\n",
    "\n",
    "obj3.index = ['A','B','C','D']\n",
    "print(obj3)\n"
   ]
  },
  {
   "cell_type": "markdown",
   "metadata": {},
   "source": [
    "## 2.2 Data Frame"
   ]
  },
  {
   "cell_type": "code",
   "execution_count": 35,
   "metadata": {},
   "outputs": [
    {
     "name": "stdout",
     "output_type": "stream",
     "text": "name  year  points\n0      Daehan  2013     1.5\n1      Taewoo  2014     1.7\n2    Donghyun  2015     3.6\n3         Kim  2016     2.4\n4  Smallstone  2017     2.9\n\n\ndf.index: RangeIndex(start=0, stop=5, step=1)\ndf.colums: Index(['name', 'year', 'points'], dtype='object')\ndf.values:\n [['Daehan' 2013 1.5]\n ['Taewoo' 2014 1.7]\n ['Donghyun' 2015 3.6]\n ['Kim' 2016 2.4]\n ['Smallstone' 2017 2.9]]\n\n\nInfo        name  year  points\nNum                           \n0         Daehan  2013     1.5\n1         Taewoo  2014     1.7\n2       Donghyun  2015     3.6\n3            Kim  2016     2.4\n4     Smallstone  2017     2.9\n\n\n       year        name  points penalty\none    2013      Daehan     1.5     NaN\ntwo    2014      Taewoo     1.7     NaN\nthree  2015    Donghyun     3.6     NaN\nfour   2016         Kim     2.4     NaN\nfive   2017  Smallstone     2.9     NaN\n\n\n"
    }
   ],
   "source": [
    "import pandas as pd\n",
    "import numpy as np\n",
    "\n",
    "\n",
    "data = {'name':['Daehan','Taewoo','Donghyun','Kim','Smallstone'],'year':[2013,2014,2015,2016,2017],'points':[1.5,1.7,3.6,2.4,2.9]}\n",
    "df = pd.DataFrame(data)\n",
    "print(df)\n",
    "print(\"\\n\")\n",
    "print(\"df.index:\",df.index)\n",
    "print(\"df.colums:\",df.columns)\n",
    "print(\"df.values:\\n\",df.values)\n",
    "print(\"\\n\")\n",
    "# 이름 설정\n",
    "df.index.name='Num'\n",
    "df.columns.name=\"Info\"\n",
    "print(df)\n",
    "print(\"\\n\")\n",
    "#DataFrame에 columms, index 설정 \n",
    "\n",
    "df2 = pd.DataFrame(data,columns=['year','name','points','penalty'],index=['one','two','three','four','five'])\n",
    "print(df2)\n",
    "print(\"\\n\")\n"
   ]
  },
  {
   "cell_type": "markdown",
   "metadata": {},
   "source": [
    "### DataFrame에 딕셔너리 값 입력시\n",
    "### 딕셔너리와 columms의 순서가 달라도 알아서 정의됨\n",
    "### 값이 없으면 NaN"
   ]
  },
  {
   "cell_type": "code",
   "execution_count": 36,
   "metadata": {},
   "outputs": [
    {
     "data": {
      "text/html": "<div>\n<style scoped>\n    .dataframe tbody tr th:only-of-type {\n        vertical-align: middle;\n    }\n\n    .dataframe tbody tr th {\n        vertical-align: top;\n    }\n\n    .dataframe thead th {\n        text-align: right;\n    }\n</style>\n<table border=\"1\" class=\"dataframe\">\n  <thead>\n    <tr style=\"text-align: right;\">\n      <th></th>\n      <th>year</th>\n      <th>points</th>\n    </tr>\n  </thead>\n  <tbody>\n    <tr>\n      <th>count</th>\n      <td>5.000000</td>\n      <td>5.000000</td>\n    </tr>\n    <tr>\n      <th>mean</th>\n      <td>2015.000000</td>\n      <td>2.420000</td>\n    </tr>\n    <tr>\n      <th>std</th>\n      <td>1.581139</td>\n      <td>0.864292</td>\n    </tr>\n    <tr>\n      <th>min</th>\n      <td>2013.000000</td>\n      <td>1.500000</td>\n    </tr>\n    <tr>\n      <th>25%</th>\n      <td>2014.000000</td>\n      <td>1.700000</td>\n    </tr>\n    <tr>\n      <th>50%</th>\n      <td>2015.000000</td>\n      <td>2.400000</td>\n    </tr>\n    <tr>\n      <th>75%</th>\n      <td>2016.000000</td>\n      <td>2.900000</td>\n    </tr>\n    <tr>\n      <th>max</th>\n      <td>2017.000000</td>\n      <td>3.600000</td>\n    </tr>\n  </tbody>\n</table>\n</div>",
      "text/plain": "              year    points\ncount     5.000000  5.000000\nmean   2015.000000  2.420000\nstd       1.581139  0.864292\nmin    2013.000000  1.500000\n25%    2014.000000  1.700000\n50%    2015.000000  2.400000\n75%    2016.000000  2.900000\nmax    2017.000000  3.600000"
     },
     "execution_count": 36,
     "metadata": {},
     "output_type": "execute_result"
    }
   ],
   "source": [
    "# describe() 함수는 DataFrame의 계산 가능한 값들에 대한 다양한 계산 보여줌\n",
    "df2.describe()"
   ]
  },
  {
   "cell_type": "markdown",
   "metadata": {},
   "source": [
    "# 3. DataFrame Indexing"
   ]
  },
  {
   "cell_type": "code",
   "execution_count": 49,
   "metadata": {},
   "outputs": [
    {
     "data": {
      "text/html": "<div>\n<style scoped>\n    .dataframe tbody tr th:only-of-type {\n        vertical-align: middle;\n    }\n\n    .dataframe tbody tr th {\n        vertical-align: top;\n    }\n\n    .dataframe thead th {\n        text-align: right;\n    }\n</style>\n<table border=\"1\" class=\"dataframe\">\n  <thead>\n    <tr style=\"text-align: right;\">\n      <th></th>\n      <th>year</th>\n      <th>names</th>\n      <th>points</th>\n      <th>penalty</th>\n    </tr>\n  </thead>\n  <tbody>\n    <tr>\n      <th>one</th>\n      <td>2014</td>\n      <td>Daehan</td>\n      <td>1.5</td>\n      <td>NaN</td>\n    </tr>\n    <tr>\n      <th>two</th>\n      <td>2015</td>\n      <td>Kim</td>\n      <td>1.7</td>\n      <td>NaN</td>\n    </tr>\n    <tr>\n      <th>three</th>\n      <td>2016</td>\n      <td>Taewoo</td>\n      <td>3.6</td>\n      <td>NaN</td>\n    </tr>\n    <tr>\n      <th>four</th>\n      <td>2015</td>\n      <td>Donghyun</td>\n      <td>2.4</td>\n      <td>NaN</td>\n    </tr>\n    <tr>\n      <th>five</th>\n      <td>2017</td>\n      <td>Smallstone</td>\n      <td>2.9</td>\n      <td>NaN</td>\n    </tr>\n  </tbody>\n</table>\n</div>",
      "text/plain": "       year       names  points penalty\none    2014      Daehan     1.5     NaN\ntwo    2015         Kim     1.7     NaN\nthree  2016      Taewoo     3.6     NaN\nfour   2015    Donghyun     2.4     NaN\nfive   2017  Smallstone     2.9     NaN"
     },
     "execution_count": 49,
     "metadata": {},
     "output_type": "execute_result"
    }
   ],
   "source": [
    "import pandas as pd \n",
    "import numpy as np \n",
    "\n",
    "data = {'names':['Daehan','Kim','Taewoo','Donghyun','Smallstone'],'year':[2014,2015,2016,2015,2017],'points':[1.5,1.7,3.6,2.4,2.9]}\n",
    "df = pd.DataFrame(data,columns=['year','names','points','penalty'],index=['one','two','three','four','five'])\n",
    "df"
   ]
  },
  {
   "cell_type": "code",
   "execution_count": null,
   "metadata": {},
   "outputs": [],
   "source": []
  }
 ]
}