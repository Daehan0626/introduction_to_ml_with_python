{
 "nbformat": 4,
 "nbformat_minor": 2,
 "metadata": {
  "language_info": {
   "name": "python",
   "codemirror_mode": {
    "name": "ipython",
    "version": 3
   },
   "version": "3.6.10-final"
  },
  "orig_nbformat": 2,
  "file_extension": ".py",
  "mimetype": "text/x-python",
  "name": "python",
  "npconvert_exporter": "python",
  "pygments_lexer": "ipython3",
  "version": 3,
  "kernelspec": {
   "name": "python361064bittfv1condaceb7e72d0f1b41d0a881f7856e8750f5",
   "display_name": "Python 3.6.10 64-bit ('tf_v1': conda)"
  }
 },
 "cells": [
  {
   "cell_type": "markdown",
   "metadata": {},
   "source": [
    "# 1. Pandas란?\n",
    "## pandas 사용하기 "
   ]
  },
  {
   "cell_type": "code",
   "execution_count": 225,
   "metadata": {},
   "outputs": [
    {
     "data": {
      "text/plain": "'1.0.1'"
     },
     "execution_count": 225,
     "metadata": {},
     "output_type": "execute_result"
    }
   ],
   "source": [
    "\n",
    "import numpy as np \n",
    "import pandas as pd \n",
    "\n",
    "pd.__version__\n"
   ]
  },
  {
   "cell_type": "markdown",
   "metadata": {},
   "source": [
    "# 2.Pandas 자료구조\n",
    "## \"Series\"와 \"Data Frame\" \n",
    "## 2-1 Series"
   ]
  },
  {
   "cell_type": "code",
   "execution_count": 226,
   "metadata": {},
   "outputs": [
    {
     "name": "stdout",
     "output_type": "stream",
     "text": "0    4\n1    7\n2   -5\n3    3\ndtype: int64\n[ 4  7 -5  3]\nRangeIndex(start=0, stop=4, step=1)\nint64\nd    4\nb    7\na   -5\nc    3\ndtype: int64\nKim         35000\nDaehan      67000\nTaewoo      12000\nDonghyun     4000\ndtype: int64\nA    35000\nB    67000\nC    12000\nD     4000\ndtype: int64\n"
    }
   ],
   "source": [
    "import numpy as np \n",
    "import pandas as pd \n",
    "\n",
    "# Series 정의\n",
    "\n",
    "obj = pd.Series([4,7,-5,3])\n",
    "print(obj)\n",
    "\n",
    "#값, 인덱스, 타입 확인\n",
    "print(obj.values)\n",
    "print(obj.index)\n",
    "print(obj.dtypes)\n",
    "\n",
    "obj2 = pd.Series([4,7,-5,3],index=['d','b','a','c'])\n",
    "print(obj2)\n",
    "\n",
    "#dictionay -> Series data\n",
    "#key -> idx\n",
    "#value -> value\n",
    "\n",
    "sdata = {'Kim':35000, \"Daehan\":67000, 'Taewoo':12000,'Donghyun':4000}\n",
    "obj3 = pd.Series(sdata)\n",
    "print(obj3)\n",
    "\n",
    "obj3.index = ['A','B','C','D']\n",
    "print(obj3)\n"
   ]
  },
  {
   "cell_type": "markdown",
   "metadata": {},
   "source": [
    "## 2.2 Data Frame"
   ]
  },
  {
   "cell_type": "code",
   "execution_count": 227,
   "metadata": {},
   "outputs": [
    {
     "name": "stdout",
     "output_type": "stream",
     "text": "name  year  points\n0      Daehan  2013     1.5\n1      Taewoo  2014     1.7\n2    Donghyun  2015     3.6\n3         Kim  2016     2.4\n4  Smallstone  2017     2.9\n\n\ndf.index: RangeIndex(start=0, stop=5, step=1)\ndf.colums: Index(['name', 'year', 'points'], dtype='object')\ndf.values:\n [['Daehan' 2013 1.5]\n ['Taewoo' 2014 1.7]\n ['Donghyun' 2015 3.6]\n ['Kim' 2016 2.4]\n ['Smallstone' 2017 2.9]]\n\n\nInfo        name  year  points\nNum                           \n0         Daehan  2013     1.5\n1         Taewoo  2014     1.7\n2       Donghyun  2015     3.6\n3            Kim  2016     2.4\n4     Smallstone  2017     2.9\n\n\n       year        name  points penalty\none    2013      Daehan     1.5     NaN\ntwo    2014      Taewoo     1.7     NaN\nthree  2015    Donghyun     3.6     NaN\nfour   2016         Kim     2.4     NaN\nfive   2017  Smallstone     2.9     NaN\n\n\n"
    }
   ],
   "source": [
    "import pandas as pd\n",
    "import numpy as np\n",
    "\n",
    "\n",
    "data = {'name':['Daehan','Taewoo','Donghyun','Kim','Smallstone'],'year':[2013,2014,2015,2016,2017],'points':[1.5,1.7,3.6,2.4,2.9]}\n",
    "df = pd.DataFrame(data)\n",
    "print(df)\n",
    "print(\"\\n\")\n",
    "print(\"df.index:\",df.index)\n",
    "print(\"df.colums:\",df.columns)\n",
    "print(\"df.values:\\n\",df.values)\n",
    "print(\"\\n\")\n",
    "# 이름 설정\n",
    "df.index.name='Num'\n",
    "df.columns.name=\"Info\"\n",
    "print(df)\n",
    "print(\"\\n\")\n",
    "#DataFrame에 columms, index 설정 \n",
    "\n",
    "df2 = pd.DataFrame(data,columns=['year','name','points','penalty'],index=['one','two','three','four','five'])\n",
    "print(df2)\n",
    "print(\"\\n\")\n"
   ]
  },
  {
   "cell_type": "markdown",
   "metadata": {},
   "source": [
    "### DataFrame에 딕셔너리 값 입력시\n",
    "### 딕셔너리와 columms의 순서가 달라도 알아서 정의됨\n",
    "### 값이 없으면 NaN"
   ]
  },
  {
   "cell_type": "code",
   "execution_count": 228,
   "metadata": {},
   "outputs": [
    {
     "data": {
      "text/html": "<div>\n<style scoped>\n    .dataframe tbody tr th:only-of-type {\n        vertical-align: middle;\n    }\n\n    .dataframe tbody tr th {\n        vertical-align: top;\n    }\n\n    .dataframe thead th {\n        text-align: right;\n    }\n</style>\n<table border=\"1\" class=\"dataframe\">\n  <thead>\n    <tr style=\"text-align: right;\">\n      <th></th>\n      <th>year</th>\n      <th>points</th>\n    </tr>\n  </thead>\n  <tbody>\n    <tr>\n      <th>count</th>\n      <td>5.000000</td>\n      <td>5.000000</td>\n    </tr>\n    <tr>\n      <th>mean</th>\n      <td>2015.000000</td>\n      <td>2.420000</td>\n    </tr>\n    <tr>\n      <th>std</th>\n      <td>1.581139</td>\n      <td>0.864292</td>\n    </tr>\n    <tr>\n      <th>min</th>\n      <td>2013.000000</td>\n      <td>1.500000</td>\n    </tr>\n    <tr>\n      <th>25%</th>\n      <td>2014.000000</td>\n      <td>1.700000</td>\n    </tr>\n    <tr>\n      <th>50%</th>\n      <td>2015.000000</td>\n      <td>2.400000</td>\n    </tr>\n    <tr>\n      <th>75%</th>\n      <td>2016.000000</td>\n      <td>2.900000</td>\n    </tr>\n    <tr>\n      <th>max</th>\n      <td>2017.000000</td>\n      <td>3.600000</td>\n    </tr>\n  </tbody>\n</table>\n</div>",
      "text/plain": "              year    points\ncount     5.000000  5.000000\nmean   2015.000000  2.420000\nstd       1.581139  0.864292\nmin    2013.000000  1.500000\n25%    2014.000000  1.700000\n50%    2015.000000  2.400000\n75%    2016.000000  2.900000\nmax    2017.000000  3.600000"
     },
     "execution_count": 228,
     "metadata": {},
     "output_type": "execute_result"
    }
   ],
   "source": [
    "# describe() 함수는 DataFrame의 계산 가능한 값들에 대한 다양한 계산 보여줌\n",
    "df2.describe()"
   ]
  },
  {
   "cell_type": "markdown",
   "metadata": {},
   "source": [
    "# 3. DataFrame Indexing"
   ]
  },
  {
   "cell_type": "code",
   "execution_count": 229,
   "metadata": {},
   "outputs": [
    {
     "data": {
      "text/html": "<div>\n<style scoped>\n    .dataframe tbody tr th:only-of-type {\n        vertical-align: middle;\n    }\n\n    .dataframe tbody tr th {\n        vertical-align: top;\n    }\n\n    .dataframe thead th {\n        text-align: right;\n    }\n</style>\n<table border=\"1\" class=\"dataframe\">\n  <thead>\n    <tr style=\"text-align: right;\">\n      <th></th>\n      <th>year</th>\n      <th>names</th>\n      <th>points</th>\n      <th>penalty</th>\n    </tr>\n  </thead>\n  <tbody>\n    <tr>\n      <th>one</th>\n      <td>2014</td>\n      <td>Daehan</td>\n      <td>1.5</td>\n      <td>NaN</td>\n    </tr>\n    <tr>\n      <th>two</th>\n      <td>2015</td>\n      <td>Kim</td>\n      <td>1.7</td>\n      <td>NaN</td>\n    </tr>\n    <tr>\n      <th>three</th>\n      <td>2016</td>\n      <td>Taewoo</td>\n      <td>3.6</td>\n      <td>NaN</td>\n    </tr>\n    <tr>\n      <th>four</th>\n      <td>2015</td>\n      <td>Donghyun</td>\n      <td>2.4</td>\n      <td>NaN</td>\n    </tr>\n    <tr>\n      <th>five</th>\n      <td>2017</td>\n      <td>Smallstone</td>\n      <td>2.9</td>\n      <td>NaN</td>\n    </tr>\n  </tbody>\n</table>\n</div>",
      "text/plain": "       year       names  points penalty\none    2014      Daehan     1.5     NaN\ntwo    2015         Kim     1.7     NaN\nthree  2016      Taewoo     3.6     NaN\nfour   2015    Donghyun     2.4     NaN\nfive   2017  Smallstone     2.9     NaN"
     },
     "execution_count": 229,
     "metadata": {},
     "output_type": "execute_result"
    }
   ],
   "source": [
    "import pandas as pd \n",
    "import numpy as np \n",
    "\n",
    "data = {'names':['Daehan','Kim','Taewoo','Donghyun','Smallstone'],'year':[2014,2015,2016,2015,2017],'points':[1.5,1.7,3.6,2.4,2.9]}\n",
    "df = pd.DataFrame(data,columns=['year','names','points','penalty'],index=['one','two','three','four','five'])\n",
    "df"
   ]
  },
  {
   "cell_type": "code",
   "execution_count": 230,
   "metadata": {},
   "outputs": [
    {
     "data": {
      "text/plain": "one      2014\ntwo      2015\nthree    2016\nfour     2015\nfive     2017\nName: year, dtype: int64"
     },
     "execution_count": 230,
     "metadata": {},
     "output_type": "execute_result"
    }
   ],
   "source": [
    "df['year']"
   ]
  },
  {
   "cell_type": "code",
   "execution_count": 231,
   "metadata": {},
   "outputs": [
    {
     "data": {
      "text/plain": "one      2014\ntwo      2015\nthree    2016\nfour     2015\nfive     2017\nName: year, dtype: int64"
     },
     "execution_count": 231,
     "metadata": {},
     "output_type": "execute_result"
    }
   ],
   "source": [
    "df.year"
   ]
  },
  {
   "cell_type": "code",
   "execution_count": 232,
   "metadata": {},
   "outputs": [
    {
     "data": {
      "text/html": "<div>\n<style scoped>\n    .dataframe tbody tr th:only-of-type {\n        vertical-align: middle;\n    }\n\n    .dataframe tbody tr th {\n        vertical-align: top;\n    }\n\n    .dataframe thead th {\n        text-align: right;\n    }\n</style>\n<table border=\"1\" class=\"dataframe\">\n  <thead>\n    <tr style=\"text-align: right;\">\n      <th></th>\n      <th>year</th>\n      <th>points</th>\n    </tr>\n  </thead>\n  <tbody>\n    <tr>\n      <th>one</th>\n      <td>2014</td>\n      <td>1.5</td>\n    </tr>\n    <tr>\n      <th>two</th>\n      <td>2015</td>\n      <td>1.7</td>\n    </tr>\n    <tr>\n      <th>three</th>\n      <td>2016</td>\n      <td>3.6</td>\n    </tr>\n    <tr>\n      <th>four</th>\n      <td>2015</td>\n      <td>2.4</td>\n    </tr>\n    <tr>\n      <th>five</th>\n      <td>2017</td>\n      <td>2.9</td>\n    </tr>\n  </tbody>\n</table>\n</div>",
      "text/plain": "       year  points\none    2014     1.5\ntwo    2015     1.7\nthree  2016     3.6\nfour   2015     2.4\nfive   2017     2.9"
     },
     "execution_count": 232,
     "metadata": {},
     "output_type": "execute_result"
    }
   ],
   "source": [
    "df[['year','points']]"
   ]
  },
  {
   "cell_type": "code",
   "execution_count": 233,
   "metadata": {},
   "outputs": [
    {
     "data": {
      "text/html": "<div>\n<style scoped>\n    .dataframe tbody tr th:only-of-type {\n        vertical-align: middle;\n    }\n\n    .dataframe tbody tr th {\n        vertical-align: top;\n    }\n\n    .dataframe thead th {\n        text-align: right;\n    }\n</style>\n<table border=\"1\" class=\"dataframe\">\n  <thead>\n    <tr style=\"text-align: right;\">\n      <th></th>\n      <th>year</th>\n      <th>names</th>\n      <th>points</th>\n      <th>penalty</th>\n    </tr>\n  </thead>\n  <tbody>\n    <tr>\n      <th>one</th>\n      <td>2014</td>\n      <td>Daehan</td>\n      <td>1.5</td>\n      <td>0.5</td>\n    </tr>\n    <tr>\n      <th>two</th>\n      <td>2015</td>\n      <td>Kim</td>\n      <td>1.7</td>\n      <td>0.5</td>\n    </tr>\n    <tr>\n      <th>three</th>\n      <td>2016</td>\n      <td>Taewoo</td>\n      <td>3.6</td>\n      <td>0.5</td>\n    </tr>\n    <tr>\n      <th>four</th>\n      <td>2015</td>\n      <td>Donghyun</td>\n      <td>2.4</td>\n      <td>0.5</td>\n    </tr>\n    <tr>\n      <th>five</th>\n      <td>2017</td>\n      <td>Smallstone</td>\n      <td>2.9</td>\n      <td>0.5</td>\n    </tr>\n  </tbody>\n</table>\n</div>",
      "text/plain": "       year       names  points  penalty\none    2014      Daehan     1.5      0.5\ntwo    2015         Kim     1.7      0.5\nthree  2016      Taewoo     3.6      0.5\nfour   2015    Donghyun     2.4      0.5\nfive   2017  Smallstone     2.9      0.5"
     },
     "execution_count": 233,
     "metadata": {},
     "output_type": "execute_result"
    }
   ],
   "source": [
    "df.penalty=0.5\n",
    "df"
   ]
  },
  {
   "cell_type": "code",
   "execution_count": 234,
   "metadata": {},
   "outputs": [
    {
     "data": {
      "text/html": "<div>\n<style scoped>\n    .dataframe tbody tr th:only-of-type {\n        vertical-align: middle;\n    }\n\n    .dataframe tbody tr th {\n        vertical-align: top;\n    }\n\n    .dataframe thead th {\n        text-align: right;\n    }\n</style>\n<table border=\"1\" class=\"dataframe\">\n  <thead>\n    <tr style=\"text-align: right;\">\n      <th></th>\n      <th>year</th>\n      <th>names</th>\n      <th>points</th>\n      <th>penalty</th>\n    </tr>\n  </thead>\n  <tbody>\n    <tr>\n      <th>one</th>\n      <td>2014</td>\n      <td>Daehan</td>\n      <td>1.5</td>\n      <td>0.1</td>\n    </tr>\n    <tr>\n      <th>two</th>\n      <td>2015</td>\n      <td>Kim</td>\n      <td>1.7</td>\n      <td>0.2</td>\n    </tr>\n    <tr>\n      <th>three</th>\n      <td>2016</td>\n      <td>Taewoo</td>\n      <td>3.6</td>\n      <td>0.3</td>\n    </tr>\n    <tr>\n      <th>four</th>\n      <td>2015</td>\n      <td>Donghyun</td>\n      <td>2.4</td>\n      <td>0.4</td>\n    </tr>\n    <tr>\n      <th>five</th>\n      <td>2017</td>\n      <td>Smallstone</td>\n      <td>2.9</td>\n      <td>0.5</td>\n    </tr>\n  </tbody>\n</table>\n</div>",
      "text/plain": "       year       names  points  penalty\none    2014      Daehan     1.5      0.1\ntwo    2015         Kim     1.7      0.2\nthree  2016      Taewoo     3.6      0.3\nfour   2015    Donghyun     2.4      0.4\nfive   2017  Smallstone     2.9      0.5"
     },
     "execution_count": 234,
     "metadata": {},
     "output_type": "execute_result"
    }
   ],
   "source": [
    "df.penalty=[0.1,0.2,0.3,0.4,0.5]\n",
    "df"
   ]
  },
  {
   "cell_type": "code",
   "execution_count": 235,
   "metadata": {},
   "outputs": [
    {
     "data": {
      "text/html": "<div>\n<style scoped>\n    .dataframe tbody tr th:only-of-type {\n        vertical-align: middle;\n    }\n\n    .dataframe tbody tr th {\n        vertical-align: top;\n    }\n\n    .dataframe thead th {\n        text-align: right;\n    }\n</style>\n<table border=\"1\" class=\"dataframe\">\n  <thead>\n    <tr style=\"text-align: right;\">\n      <th></th>\n      <th>year</th>\n      <th>names</th>\n      <th>points</th>\n      <th>penalty</th>\n      <th>zeros</th>\n    </tr>\n  </thead>\n  <tbody>\n    <tr>\n      <th>one</th>\n      <td>2014</td>\n      <td>Daehan</td>\n      <td>1.5</td>\n      <td>0.1</td>\n      <td>0</td>\n    </tr>\n    <tr>\n      <th>two</th>\n      <td>2015</td>\n      <td>Kim</td>\n      <td>1.7</td>\n      <td>0.2</td>\n      <td>1</td>\n    </tr>\n    <tr>\n      <th>three</th>\n      <td>2016</td>\n      <td>Taewoo</td>\n      <td>3.6</td>\n      <td>0.3</td>\n      <td>2</td>\n    </tr>\n    <tr>\n      <th>four</th>\n      <td>2015</td>\n      <td>Donghyun</td>\n      <td>2.4</td>\n      <td>0.4</td>\n      <td>3</td>\n    </tr>\n    <tr>\n      <th>five</th>\n      <td>2017</td>\n      <td>Smallstone</td>\n      <td>2.9</td>\n      <td>0.5</td>\n      <td>4</td>\n    </tr>\n  </tbody>\n</table>\n</div>",
      "text/plain": "       year       names  points  penalty  zeros\none    2014      Daehan     1.5      0.1      0\ntwo    2015         Kim     1.7      0.2      1\nthree  2016      Taewoo     3.6      0.3      2\nfour   2015    Donghyun     2.4      0.4      3\nfive   2017  Smallstone     2.9      0.5      4"
     },
     "execution_count": 235,
     "metadata": {},
     "output_type": "execute_result"
    }
   ],
   "source": [
    "df['zeros'] = np.arange(5)\n",
    "df"
   ]
  },
  {
   "cell_type": "code",
   "execution_count": 236,
   "metadata": {},
   "outputs": [
    {
     "data": {
      "text/html": "<div>\n<style scoped>\n    .dataframe tbody tr th:only-of-type {\n        vertical-align: middle;\n    }\n\n    .dataframe tbody tr th {\n        vertical-align: top;\n    }\n\n    .dataframe thead th {\n        text-align: right;\n    }\n</style>\n<table border=\"1\" class=\"dataframe\">\n  <thead>\n    <tr style=\"text-align: right;\">\n      <th></th>\n      <th>year</th>\n      <th>names</th>\n      <th>points</th>\n      <th>penalty</th>\n      <th>zeros</th>\n      <th>debt</th>\n    </tr>\n  </thead>\n  <tbody>\n    <tr>\n      <th>one</th>\n      <td>2014</td>\n      <td>Daehan</td>\n      <td>1.5</td>\n      <td>0.1</td>\n      <td>0</td>\n      <td>NaN</td>\n    </tr>\n    <tr>\n      <th>two</th>\n      <td>2015</td>\n      <td>Kim</td>\n      <td>1.7</td>\n      <td>0.2</td>\n      <td>1</td>\n      <td>-1.2</td>\n    </tr>\n    <tr>\n      <th>three</th>\n      <td>2016</td>\n      <td>Taewoo</td>\n      <td>3.6</td>\n      <td>0.3</td>\n      <td>2</td>\n      <td>NaN</td>\n    </tr>\n    <tr>\n      <th>four</th>\n      <td>2015</td>\n      <td>Donghyun</td>\n      <td>2.4</td>\n      <td>0.4</td>\n      <td>3</td>\n      <td>-1.5</td>\n    </tr>\n    <tr>\n      <th>five</th>\n      <td>2017</td>\n      <td>Smallstone</td>\n      <td>2.9</td>\n      <td>0.5</td>\n      <td>4</td>\n      <td>-1.7</td>\n    </tr>\n  </tbody>\n</table>\n</div>",
      "text/plain": "       year       names  points  penalty  zeros  debt\none    2014      Daehan     1.5      0.1      0   NaN\ntwo    2015         Kim     1.7      0.2      1  -1.2\nthree  2016      Taewoo     3.6      0.3      2   NaN\nfour   2015    Donghyun     2.4      0.4      3  -1.5\nfive   2017  Smallstone     2.9      0.5      4  -1.7"
     },
     "execution_count": 236,
     "metadata": {},
     "output_type": "execute_result"
    }
   ],
   "source": [
    "#원하는 index에 Series 추가\n",
    "val = pd.Series([-1.2,-1.5,-1.7],index=['two','four','five'])\n",
    "df['debt'] = val\n",
    "df"
   ]
  },
  {
   "cell_type": "code",
   "execution_count": 237,
   "metadata": {},
   "outputs": [
    {
     "data": {
      "text/html": "<div>\n<style scoped>\n    .dataframe tbody tr th:only-of-type {\n        vertical-align: middle;\n    }\n\n    .dataframe tbody tr th {\n        vertical-align: top;\n    }\n\n    .dataframe thead th {\n        text-align: right;\n    }\n</style>\n<table border=\"1\" class=\"dataframe\">\n  <thead>\n    <tr style=\"text-align: right;\">\n      <th></th>\n      <th>year</th>\n      <th>names</th>\n      <th>points</th>\n      <th>penalty</th>\n      <th>zeros</th>\n      <th>debt</th>\n      <th>net_points</th>\n      <th>high_points</th>\n    </tr>\n  </thead>\n  <tbody>\n    <tr>\n      <th>one</th>\n      <td>2014</td>\n      <td>Daehan</td>\n      <td>1.5</td>\n      <td>0.1</td>\n      <td>0</td>\n      <td>NaN</td>\n      <td>1.4</td>\n      <td>False</td>\n    </tr>\n    <tr>\n      <th>two</th>\n      <td>2015</td>\n      <td>Kim</td>\n      <td>1.7</td>\n      <td>0.2</td>\n      <td>1</td>\n      <td>-1.2</td>\n      <td>1.5</td>\n      <td>False</td>\n    </tr>\n    <tr>\n      <th>three</th>\n      <td>2016</td>\n      <td>Taewoo</td>\n      <td>3.6</td>\n      <td>0.3</td>\n      <td>2</td>\n      <td>NaN</td>\n      <td>3.3</td>\n      <td>True</td>\n    </tr>\n    <tr>\n      <th>four</th>\n      <td>2015</td>\n      <td>Donghyun</td>\n      <td>2.4</td>\n      <td>0.4</td>\n      <td>3</td>\n      <td>-1.5</td>\n      <td>2.0</td>\n      <td>False</td>\n    </tr>\n    <tr>\n      <th>five</th>\n      <td>2017</td>\n      <td>Smallstone</td>\n      <td>2.9</td>\n      <td>0.5</td>\n      <td>4</td>\n      <td>-1.7</td>\n      <td>2.4</td>\n      <td>True</td>\n    </tr>\n  </tbody>\n</table>\n</div>",
      "text/plain": "       year       names  points  penalty  zeros  debt  net_points  high_points\none    2014      Daehan     1.5      0.1      0   NaN         1.4        False\ntwo    2015         Kim     1.7      0.2      1  -1.2         1.5        False\nthree  2016      Taewoo     3.6      0.3      2   NaN         3.3         True\nfour   2015    Donghyun     2.4      0.4      3  -1.5         2.0        False\nfive   2017  Smallstone     2.9      0.5      4  -1.7         2.4         True"
     },
     "execution_count": 237,
     "metadata": {},
     "output_type": "execute_result"
    }
   ],
   "source": [
    "df['net_points'] = df['points']-df['penalty']\n",
    "df['high_points'] = df['net_points']>2.0\n",
    "df"
   ]
  },
  {
   "cell_type": "code",
   "execution_count": 238,
   "metadata": {},
   "outputs": [
    {
     "data": {
      "text/html": "<div>\n<style scoped>\n    .dataframe tbody tr th:only-of-type {\n        vertical-align: middle;\n    }\n\n    .dataframe tbody tr th {\n        vertical-align: top;\n    }\n\n    .dataframe thead th {\n        text-align: right;\n    }\n</style>\n<table border=\"1\" class=\"dataframe\">\n  <thead>\n    <tr style=\"text-align: right;\">\n      <th></th>\n      <th>year</th>\n      <th>names</th>\n      <th>points</th>\n      <th>penalty</th>\n      <th>debt</th>\n    </tr>\n  </thead>\n  <tbody>\n    <tr>\n      <th>one</th>\n      <td>2014</td>\n      <td>Daehan</td>\n      <td>1.5</td>\n      <td>0.1</td>\n      <td>NaN</td>\n    </tr>\n    <tr>\n      <th>two</th>\n      <td>2015</td>\n      <td>Kim</td>\n      <td>1.7</td>\n      <td>0.2</td>\n      <td>-1.2</td>\n    </tr>\n    <tr>\n      <th>three</th>\n      <td>2016</td>\n      <td>Taewoo</td>\n      <td>3.6</td>\n      <td>0.3</td>\n      <td>NaN</td>\n    </tr>\n    <tr>\n      <th>four</th>\n      <td>2015</td>\n      <td>Donghyun</td>\n      <td>2.4</td>\n      <td>0.4</td>\n      <td>-1.5</td>\n    </tr>\n    <tr>\n      <th>five</th>\n      <td>2017</td>\n      <td>Smallstone</td>\n      <td>2.9</td>\n      <td>0.5</td>\n      <td>-1.7</td>\n    </tr>\n  </tbody>\n</table>\n</div>",
      "text/plain": "       year       names  points  penalty  debt\none    2014      Daehan     1.5      0.1   NaN\ntwo    2015         Kim     1.7      0.2  -1.2\nthree  2016      Taewoo     3.6      0.3   NaN\nfour   2015    Donghyun     2.4      0.4  -1.5\nfive   2017  Smallstone     2.9      0.5  -1.7"
     },
     "execution_count": 238,
     "metadata": {},
     "output_type": "execute_result"
    }
   ],
   "source": [
    "# 열 삭제 \n",
    "del df['high_points']\n",
    "del df['net_points']\n",
    "del df['zeros']\n",
    "df"
   ]
  },
  {
   "cell_type": "markdown",
   "metadata": {},
   "source": [
    "## 3.2 DataFrame에서 행을 선택하고 변경"
   ]
  },
  {
   "cell_type": "code",
   "execution_count": 239,
   "metadata": {},
   "outputs": [
    {
     "data": {
      "text/html": "<div>\n<style scoped>\n    .dataframe tbody tr th:only-of-type {\n        vertical-align: middle;\n    }\n\n    .dataframe tbody tr th {\n        vertical-align: top;\n    }\n\n    .dataframe thead th {\n        text-align: right;\n    }\n</style>\n<table border=\"1\" class=\"dataframe\">\n  <thead>\n    <tr style=\"text-align: right;\">\n      <th></th>\n      <th>year</th>\n      <th>names</th>\n      <th>points</th>\n      <th>penalty</th>\n      <th>debt</th>\n    </tr>\n  </thead>\n  <tbody>\n    <tr>\n      <th>one</th>\n      <td>2014</td>\n      <td>Daehan</td>\n      <td>1.5</td>\n      <td>0.1</td>\n      <td>NaN</td>\n    </tr>\n    <tr>\n      <th>two</th>\n      <td>2015</td>\n      <td>Kim</td>\n      <td>1.7</td>\n      <td>0.2</td>\n      <td>-1.2</td>\n    </tr>\n    <tr>\n      <th>three</th>\n      <td>2016</td>\n      <td>Taewoo</td>\n      <td>3.6</td>\n      <td>0.3</td>\n      <td>NaN</td>\n    </tr>\n  </tbody>\n</table>\n</div>",
      "text/plain": "       year   names  points  penalty  debt\none    2014  Daehan     1.5      0.1   NaN\ntwo    2015     Kim     1.7      0.2  -1.2\nthree  2016  Taewoo     3.6      0.3   NaN"
     },
     "execution_count": 239,
     "metadata": {},
     "output_type": "execute_result"
    }
   ],
   "source": [
    "#슬라이싱\n",
    "df[0:3]"
   ]
  },
  {
   "cell_type": "code",
   "execution_count": 240,
   "metadata": {},
   "outputs": [
    {
     "data": {
      "text/plain": "year       2015\nnames       Kim\npoints      1.7\npenalty     0.2\ndebt       -1.2\nName: two, dtype: object"
     },
     "execution_count": 240,
     "metadata": {},
     "output_type": "execute_result"
    }
   ],
   "source": [
    "# loc로 행 값 가져오기 \n",
    "df.loc['two']"
   ]
  },
  {
   "cell_type": "code",
   "execution_count": 241,
   "metadata": {},
   "outputs": [
    {
     "data": {
      "text/html": "<div>\n<style scoped>\n    .dataframe tbody tr th:only-of-type {\n        vertical-align: middle;\n    }\n\n    .dataframe tbody tr th {\n        vertical-align: top;\n    }\n\n    .dataframe thead th {\n        text-align: right;\n    }\n</style>\n<table border=\"1\" class=\"dataframe\">\n  <thead>\n    <tr style=\"text-align: right;\">\n      <th></th>\n      <th>year</th>\n      <th>names</th>\n      <th>points</th>\n      <th>penalty</th>\n      <th>debt</th>\n    </tr>\n  </thead>\n  <tbody>\n    <tr>\n      <th>two</th>\n      <td>2015</td>\n      <td>Kim</td>\n      <td>1.7</td>\n      <td>0.2</td>\n      <td>-1.2</td>\n    </tr>\n    <tr>\n      <th>three</th>\n      <td>2016</td>\n      <td>Taewoo</td>\n      <td>3.6</td>\n      <td>0.3</td>\n      <td>NaN</td>\n    </tr>\n    <tr>\n      <th>four</th>\n      <td>2015</td>\n      <td>Donghyun</td>\n      <td>2.4</td>\n      <td>0.4</td>\n      <td>-1.5</td>\n    </tr>\n  </tbody>\n</table>\n</div>",
      "text/plain": "       year     names  points  penalty  debt\ntwo    2015       Kim     1.7      0.2  -1.2\nthree  2016    Taewoo     3.6      0.3   NaN\nfour   2015  Donghyun     2.4      0.4  -1.5"
     },
     "execution_count": 241,
     "metadata": {},
     "output_type": "execute_result"
    }
   ],
   "source": [
    "# two부터 four까지 출력\n",
    "df.loc['two':'four']"
   ]
  },
  {
   "cell_type": "code",
   "execution_count": 242,
   "metadata": {},
   "outputs": [
    {
     "data": {
      "text/plain": "two      1.7\nthree    3.6\nfour     2.4\nName: points, dtype: float64"
     },
     "execution_count": 242,
     "metadata": {},
     "output_type": "execute_result"
    }
   ],
   "source": [
    "# Dataframe 행, points 출력\n",
    "df.loc['two':'four','points']"
   ]
  },
  {
   "cell_type": "code",
   "execution_count": 243,
   "metadata": {},
   "outputs": [
    {
     "data": {
      "text/plain": "one      2014\ntwo      2015\nthree    2016\nfour     2015\nfive     2017\nName: year, dtype: int64"
     },
     "execution_count": 243,
     "metadata": {},
     "output_type": "execute_result"
    }
   ],
   "source": [
    "df.loc[:,'year']"
   ]
  },
  {
   "cell_type": "code",
   "execution_count": 244,
   "metadata": {},
   "outputs": [
    {
     "data": {
      "text/html": "<div>\n<style scoped>\n    .dataframe tbody tr th:only-of-type {\n        vertical-align: middle;\n    }\n\n    .dataframe tbody tr th {\n        vertical-align: top;\n    }\n\n    .dataframe thead th {\n        text-align: right;\n    }\n</style>\n<table border=\"1\" class=\"dataframe\">\n  <thead>\n    <tr style=\"text-align: right;\">\n      <th></th>\n      <th>year</th>\n      <th>names</th>\n    </tr>\n  </thead>\n  <tbody>\n    <tr>\n      <th>one</th>\n      <td>2014</td>\n      <td>Daehan</td>\n    </tr>\n    <tr>\n      <th>two</th>\n      <td>2015</td>\n      <td>Kim</td>\n    </tr>\n    <tr>\n      <th>three</th>\n      <td>2016</td>\n      <td>Taewoo</td>\n    </tr>\n    <tr>\n      <th>four</th>\n      <td>2015</td>\n      <td>Donghyun</td>\n    </tr>\n    <tr>\n      <th>five</th>\n      <td>2017</td>\n      <td>Smallstone</td>\n    </tr>\n  </tbody>\n</table>\n</div>",
      "text/plain": "       year       names\none    2014      Daehan\ntwo    2015         Kim\nthree  2016      Taewoo\nfour   2015    Donghyun\nfive   2017  Smallstone"
     },
     "execution_count": 244,
     "metadata": {},
     "output_type": "execute_result"
    }
   ],
   "source": [
    "df.loc[:,['year','names']]"
   ]
  },
  {
   "cell_type": "code",
   "execution_count": 245,
   "metadata": {},
   "outputs": [
    {
     "data": {
      "text/html": "<div>\n<style scoped>\n    .dataframe tbody tr th:only-of-type {\n        vertical-align: middle;\n    }\n\n    .dataframe tbody tr th {\n        vertical-align: top;\n    }\n\n    .dataframe thead th {\n        text-align: right;\n    }\n</style>\n<table border=\"1\" class=\"dataframe\">\n  <thead>\n    <tr style=\"text-align: right;\">\n      <th></th>\n      <th>year</th>\n      <th>names</th>\n      <th>points</th>\n      <th>penalty</th>\n      <th>debt</th>\n    </tr>\n  </thead>\n  <tbody>\n    <tr>\n      <th>one</th>\n      <td>2014.0</td>\n      <td>Daehan</td>\n      <td>1.5</td>\n      <td>0.1</td>\n      <td>NaN</td>\n    </tr>\n    <tr>\n      <th>two</th>\n      <td>2015.0</td>\n      <td>Kim</td>\n      <td>1.7</td>\n      <td>0.2</td>\n      <td>-1.2</td>\n    </tr>\n    <tr>\n      <th>three</th>\n      <td>2016.0</td>\n      <td>Taewoo</td>\n      <td>3.6</td>\n      <td>0.3</td>\n      <td>NaN</td>\n    </tr>\n    <tr>\n      <th>four</th>\n      <td>2015.0</td>\n      <td>Donghyun</td>\n      <td>2.4</td>\n      <td>0.4</td>\n      <td>-1.5</td>\n    </tr>\n    <tr>\n      <th>five</th>\n      <td>2017.0</td>\n      <td>Smallstone</td>\n      <td>2.9</td>\n      <td>0.5</td>\n      <td>-1.7</td>\n    </tr>\n    <tr>\n      <th>six</th>\n      <td>2013.0</td>\n      <td>Kim</td>\n      <td>4.0</td>\n      <td>0.1</td>\n      <td>2.1</td>\n    </tr>\n  </tbody>\n</table>\n</div>",
      "text/plain": "         year       names  points  penalty  debt\none    2014.0      Daehan     1.5      0.1   NaN\ntwo    2015.0         Kim     1.7      0.2  -1.2\nthree  2016.0      Taewoo     3.6      0.3   NaN\nfour   2015.0    Donghyun     2.4      0.4  -1.5\nfive   2017.0  Smallstone     2.9      0.5  -1.7\nsix    2013.0         Kim     4.0      0.1   2.1"
     },
     "execution_count": 245,
     "metadata": {},
     "output_type": "execute_result"
    }
   ],
   "source": [
    "df.loc['six',:]=[2013,'Kim',4.0,0.1,2.1]\n",
    "df"
   ]
  },
  {
   "cell_type": "code",
   "execution_count": 246,
   "metadata": {},
   "outputs": [
    {
     "data": {
      "text/plain": "year           2015\nnames      Donghyun\npoints          2.4\npenalty         0.4\ndebt           -1.5\nName: four, dtype: object"
     },
     "execution_count": 246,
     "metadata": {},
     "output_type": "execute_result"
    }
   ],
   "source": [
    "#3번째 행\n",
    "df.iloc[3]"
   ]
  },
  {
   "cell_type": "code",
   "execution_count": 247,
   "metadata": {},
   "outputs": [
    {
     "data": {
      "text/html": "<div>\n<style scoped>\n    .dataframe tbody tr th:only-of-type {\n        vertical-align: middle;\n    }\n\n    .dataframe tbody tr th {\n        vertical-align: top;\n    }\n\n    .dataframe thead th {\n        text-align: right;\n    }\n</style>\n<table border=\"1\" class=\"dataframe\">\n  <thead>\n    <tr style=\"text-align: right;\">\n      <th></th>\n      <th>year</th>\n      <th>names</th>\n    </tr>\n  </thead>\n  <tbody>\n    <tr>\n      <th>four</th>\n      <td>2015.0</td>\n      <td>Donghyun</td>\n    </tr>\n    <tr>\n      <th>five</th>\n      <td>2017.0</td>\n      <td>Smallstone</td>\n    </tr>\n  </tbody>\n</table>\n</div>",
      "text/plain": "        year       names\nfour  2015.0    Donghyun\nfive  2017.0  Smallstone"
     },
     "execution_count": 247,
     "metadata": {},
     "output_type": "execute_result"
    }
   ],
   "source": [
    "df.iloc[3:5,0:2]"
   ]
  },
  {
   "cell_type": "markdown",
   "metadata": {},
   "source": [
    "## 4. DataFrame에서 boolean Indexing"
   ]
  },
  {
   "cell_type": "code",
   "execution_count": 248,
   "metadata": {},
   "outputs": [
    {
     "data": {
      "text/html": "<div>\n<style scoped>\n    .dataframe tbody tr th:only-of-type {\n        vertical-align: middle;\n    }\n\n    .dataframe tbody tr th {\n        vertical-align: top;\n    }\n\n    .dataframe thead th {\n        text-align: right;\n    }\n</style>\n<table border=\"1\" class=\"dataframe\">\n  <thead>\n    <tr style=\"text-align: right;\">\n      <th></th>\n      <th>year</th>\n      <th>names</th>\n      <th>points</th>\n      <th>penalty</th>\n      <th>debt</th>\n    </tr>\n  </thead>\n  <tbody>\n    <tr>\n      <th>one</th>\n      <td>2014.0</td>\n      <td>Daehan</td>\n      <td>1.5</td>\n      <td>0.1</td>\n      <td>NaN</td>\n    </tr>\n    <tr>\n      <th>two</th>\n      <td>2015.0</td>\n      <td>Kim</td>\n      <td>1.7</td>\n      <td>0.2</td>\n      <td>-1.2</td>\n    </tr>\n    <tr>\n      <th>three</th>\n      <td>2016.0</td>\n      <td>Taewoo</td>\n      <td>3.6</td>\n      <td>0.3</td>\n      <td>NaN</td>\n    </tr>\n    <tr>\n      <th>four</th>\n      <td>2015.0</td>\n      <td>Donghyun</td>\n      <td>2.4</td>\n      <td>0.4</td>\n      <td>-1.5</td>\n    </tr>\n    <tr>\n      <th>five</th>\n      <td>2017.0</td>\n      <td>Smallstone</td>\n      <td>2.9</td>\n      <td>0.5</td>\n      <td>-1.7</td>\n    </tr>\n    <tr>\n      <th>six</th>\n      <td>2013.0</td>\n      <td>Kim</td>\n      <td>4.0</td>\n      <td>0.1</td>\n      <td>2.1</td>\n    </tr>\n  </tbody>\n</table>\n</div>",
      "text/plain": "         year       names  points  penalty  debt\none    2014.0      Daehan     1.5      0.1   NaN\ntwo    2015.0         Kim     1.7      0.2  -1.2\nthree  2016.0      Taewoo     3.6      0.3   NaN\nfour   2015.0    Donghyun     2.4      0.4  -1.5\nfive   2017.0  Smallstone     2.9      0.5  -1.7\nsix    2013.0         Kim     4.0      0.1   2.1"
     },
     "execution_count": 248,
     "metadata": {},
     "output_type": "execute_result"
    }
   ],
   "source": [
    "df"
   ]
  },
  {
   "cell_type": "code",
   "execution_count": 249,
   "metadata": {},
   "outputs": [
    {
     "data": {
      "text/plain": "one      False\ntwo       True\nthree     True\nfour      True\nfive      True\nsix      False\nName: year, dtype: bool"
     },
     "execution_count": 249,
     "metadata": {},
     "output_type": "execute_result"
    }
   ],
   "source": [
    "df['year']>2014"
   ]
  },
  {
   "cell_type": "code",
   "execution_count": 250,
   "metadata": {},
   "outputs": [
    {
     "data": {
      "text/html": "<div>\n<style scoped>\n    .dataframe tbody tr th:only-of-type {\n        vertical-align: middle;\n    }\n\n    .dataframe tbody tr th {\n        vertical-align: top;\n    }\n\n    .dataframe thead th {\n        text-align: right;\n    }\n</style>\n<table border=\"1\" class=\"dataframe\">\n  <thead>\n    <tr style=\"text-align: right;\">\n      <th></th>\n      <th>year</th>\n      <th>names</th>\n      <th>points</th>\n      <th>penalty</th>\n      <th>debt</th>\n    </tr>\n  </thead>\n  <tbody>\n    <tr>\n      <th>two</th>\n      <td>2015.0</td>\n      <td>Kim</td>\n      <td>1.7</td>\n      <td>0.2</td>\n      <td>-1.2</td>\n    </tr>\n    <tr>\n      <th>three</th>\n      <td>2016.0</td>\n      <td>Taewoo</td>\n      <td>3.6</td>\n      <td>0.3</td>\n      <td>NaN</td>\n    </tr>\n    <tr>\n      <th>four</th>\n      <td>2015.0</td>\n      <td>Donghyun</td>\n      <td>2.4</td>\n      <td>0.4</td>\n      <td>-1.5</td>\n    </tr>\n    <tr>\n      <th>five</th>\n      <td>2017.0</td>\n      <td>Smallstone</td>\n      <td>2.9</td>\n      <td>0.5</td>\n      <td>-1.7</td>\n    </tr>\n  </tbody>\n</table>\n</div>",
      "text/plain": "         year       names  points  penalty  debt\ntwo    2015.0         Kim     1.7      0.2  -1.2\nthree  2016.0      Taewoo     3.6      0.3   NaN\nfour   2015.0    Donghyun     2.4      0.4  -1.5\nfive   2017.0  Smallstone     2.9      0.5  -1.7"
     },
     "execution_count": 250,
     "metadata": {},
     "output_type": "execute_result"
    }
   ],
   "source": [
    "# 2014 넘는 값만 출력\n",
    "df.loc[df['year']>2014,:]"
   ]
  },
  {
   "cell_type": "code",
   "execution_count": 251,
   "metadata": {},
   "outputs": [
    {
     "data": {
      "text/html": "<div>\n<style scoped>\n    .dataframe tbody tr th:only-of-type {\n        vertical-align: middle;\n    }\n\n    .dataframe tbody tr th {\n        vertical-align: top;\n    }\n\n    .dataframe thead th {\n        text-align: right;\n    }\n</style>\n<table border=\"1\" class=\"dataframe\">\n  <thead>\n    <tr style=\"text-align: right;\">\n      <th></th>\n      <th>names</th>\n      <th>points</th>\n    </tr>\n  </thead>\n  <tbody>\n    <tr>\n      <th>two</th>\n      <td>Kim</td>\n      <td>1.7</td>\n    </tr>\n    <tr>\n      <th>six</th>\n      <td>Kim</td>\n      <td>4.0</td>\n    </tr>\n  </tbody>\n</table>\n</div>",
      "text/plain": "    names  points\ntwo   Kim     1.7\nsix   Kim     4.0"
     },
     "execution_count": 251,
     "metadata": {},
     "output_type": "execute_result"
    }
   ],
   "source": [
    "df.loc[df['names']=='Kim',['names','points']]"
   ]
  },
  {
   "cell_type": "code",
   "execution_count": 252,
   "metadata": {},
   "outputs": [
    {
     "data": {
      "text/html": "<div>\n<style scoped>\n    .dataframe tbody tr th:only-of-type {\n        vertical-align: middle;\n    }\n\n    .dataframe tbody tr th {\n        vertical-align: top;\n    }\n\n    .dataframe thead th {\n        text-align: right;\n    }\n</style>\n<table border=\"1\" class=\"dataframe\">\n  <thead>\n    <tr style=\"text-align: right;\">\n      <th></th>\n      <th>year</th>\n      <th>names</th>\n      <th>points</th>\n      <th>penalty</th>\n      <th>debt</th>\n    </tr>\n  </thead>\n  <tbody>\n    <tr>\n      <th>four</th>\n      <td>2015.0</td>\n      <td>Donghyun</td>\n      <td>2.4</td>\n      <td>0.4</td>\n      <td>-1.5</td>\n    </tr>\n    <tr>\n      <th>five</th>\n      <td>2017.0</td>\n      <td>Smallstone</td>\n      <td>2.9</td>\n      <td>0.5</td>\n      <td>-1.7</td>\n    </tr>\n  </tbody>\n</table>\n</div>",
      "text/plain": "        year       names  points  penalty  debt\nfour  2015.0    Donghyun     2.4      0.4  -1.5\nfive  2017.0  Smallstone     2.9      0.5  -1.7"
     },
     "execution_count": 252,
     "metadata": {},
     "output_type": "execute_result"
    }
   ],
   "source": [
    "# 조건삽입\n",
    "df.loc[(df['points']>2)&(df['points']<3),:]"
   ]
  },
  {
   "cell_type": "markdown",
   "metadata": {},
   "source": [
    "## 5.Data"
   ]
  },
  {
   "cell_type": "code",
   "execution_count": 253,
   "metadata": {},
   "outputs": [
    {
     "data": {
      "text/html": "<div>\n<style scoped>\n    .dataframe tbody tr th:only-of-type {\n        vertical-align: middle;\n    }\n\n    .dataframe tbody tr th {\n        vertical-align: top;\n    }\n\n    .dataframe thead th {\n        text-align: right;\n    }\n</style>\n<table border=\"1\" class=\"dataframe\">\n  <thead>\n    <tr style=\"text-align: right;\">\n      <th></th>\n      <th>0</th>\n      <th>1</th>\n      <th>2</th>\n      <th>3</th>\n    </tr>\n  </thead>\n  <tbody>\n    <tr>\n      <th>0</th>\n      <td>-1.322804</td>\n      <td>0.492548</td>\n      <td>-2.569857</td>\n      <td>0.217364</td>\n    </tr>\n    <tr>\n      <th>1</th>\n      <td>0.028957</td>\n      <td>-0.584673</td>\n      <td>0.589235</td>\n      <td>0.302366</td>\n    </tr>\n    <tr>\n      <th>2</th>\n      <td>-0.776697</td>\n      <td>0.419195</td>\n      <td>1.465853</td>\n      <td>0.158839</td>\n    </tr>\n    <tr>\n      <th>3</th>\n      <td>-1.366887</td>\n      <td>-1.174615</td>\n      <td>-0.465372</td>\n      <td>0.281942</td>\n    </tr>\n    <tr>\n      <th>4</th>\n      <td>-0.105503</td>\n      <td>1.729760</td>\n      <td>0.825990</td>\n      <td>0.290706</td>\n    </tr>\n    <tr>\n      <th>5</th>\n      <td>-0.219454</td>\n      <td>-0.593900</td>\n      <td>-0.143883</td>\n      <td>-1.209758</td>\n    </tr>\n  </tbody>\n</table>\n</div>",
      "text/plain": "          0         1         2         3\n0 -1.322804  0.492548 -2.569857  0.217364\n1  0.028957 -0.584673  0.589235  0.302366\n2 -0.776697  0.419195  1.465853  0.158839\n3 -1.366887 -1.174615 -0.465372  0.281942\n4 -0.105503  1.729760  0.825990  0.290706\n5 -0.219454 -0.593900 -0.143883 -1.209758"
     },
     "execution_count": 253,
     "metadata": {},
     "output_type": "execute_result"
    }
   ],
   "source": [
    "# DataFrame을 random 으로 생성\n",
    "df = pd.DataFrame(np.random.randn(6,4))\n",
    "df"
   ]
  },
  {
   "cell_type": "code",
   "execution_count": 254,
   "metadata": {},
   "outputs": [
    {
     "data": {
      "text/html": "<div>\n<style scoped>\n    .dataframe tbody tr th:only-of-type {\n        vertical-align: middle;\n    }\n\n    .dataframe tbody tr th {\n        vertical-align: top;\n    }\n\n    .dataframe thead th {\n        text-align: right;\n    }\n</style>\n<table border=\"1\" class=\"dataframe\">\n  <thead>\n    <tr style=\"text-align: right;\">\n      <th></th>\n      <th>A</th>\n      <th>B</th>\n      <th>C</th>\n      <th>D</th>\n    </tr>\n  </thead>\n  <tbody>\n    <tr>\n      <th>2016-07-01</th>\n      <td>-1.322804</td>\n      <td>0.492548</td>\n      <td>-2.569857</td>\n      <td>0.217364</td>\n    </tr>\n    <tr>\n      <th>2016-07-02</th>\n      <td>0.028957</td>\n      <td>-0.584673</td>\n      <td>0.589235</td>\n      <td>0.302366</td>\n    </tr>\n    <tr>\n      <th>2016-07-03</th>\n      <td>-0.776697</td>\n      <td>0.419195</td>\n      <td>1.465853</td>\n      <td>0.158839</td>\n    </tr>\n    <tr>\n      <th>2016-07-04</th>\n      <td>-1.366887</td>\n      <td>-1.174615</td>\n      <td>-0.465372</td>\n      <td>0.281942</td>\n    </tr>\n    <tr>\n      <th>2016-07-05</th>\n      <td>-0.105503</td>\n      <td>1.729760</td>\n      <td>0.825990</td>\n      <td>0.290706</td>\n    </tr>\n    <tr>\n      <th>2016-07-06</th>\n      <td>-0.219454</td>\n      <td>-0.593900</td>\n      <td>-0.143883</td>\n      <td>-1.209758</td>\n    </tr>\n  </tbody>\n</table>\n</div>",
      "text/plain": "                   A         B         C         D\n2016-07-01 -1.322804  0.492548 -2.569857  0.217364\n2016-07-02  0.028957 -0.584673  0.589235  0.302366\n2016-07-03 -0.776697  0.419195  1.465853  0.158839\n2016-07-04 -1.366887 -1.174615 -0.465372  0.281942\n2016-07-05 -0.105503  1.729760  0.825990  0.290706\n2016-07-06 -0.219454 -0.593900 -0.143883 -1.209758"
     },
     "execution_count": 254,
     "metadata": {},
     "output_type": "execute_result"
    }
   ],
   "source": [
    "# columms, index 설정\n",
    "df.columns=['A','B','C','D']\n",
    "df.index = pd.date_range('20160701',periods=6)\n",
    "df"
   ]
  },
  {
   "cell_type": "code",
   "execution_count": 255,
   "metadata": {},
   "outputs": [
    {
     "data": {
      "text/html": "<div>\n<style scoped>\n    .dataframe tbody tr th:only-of-type {\n        vertical-align: middle;\n    }\n\n    .dataframe tbody tr th {\n        vertical-align: top;\n    }\n\n    .dataframe thead th {\n        text-align: right;\n    }\n</style>\n<table border=\"1\" class=\"dataframe\">\n  <thead>\n    <tr style=\"text-align: right;\">\n      <th></th>\n      <th>A</th>\n      <th>B</th>\n      <th>C</th>\n      <th>D</th>\n      <th>F</th>\n    </tr>\n  </thead>\n  <tbody>\n    <tr>\n      <th>2016-07-01</th>\n      <td>-1.322804</td>\n      <td>0.492548</td>\n      <td>-2.569857</td>\n      <td>0.217364</td>\n      <td>1.0</td>\n    </tr>\n    <tr>\n      <th>2016-07-02</th>\n      <td>0.028957</td>\n      <td>-0.584673</td>\n      <td>0.589235</td>\n      <td>0.302366</td>\n      <td>NaN</td>\n    </tr>\n    <tr>\n      <th>2016-07-03</th>\n      <td>-0.776697</td>\n      <td>0.419195</td>\n      <td>1.465853</td>\n      <td>0.158839</td>\n      <td>3.5</td>\n    </tr>\n    <tr>\n      <th>2016-07-04</th>\n      <td>-1.366887</td>\n      <td>-1.174615</td>\n      <td>-0.465372</td>\n      <td>0.281942</td>\n      <td>6.1</td>\n    </tr>\n    <tr>\n      <th>2016-07-05</th>\n      <td>-0.105503</td>\n      <td>1.729760</td>\n      <td>0.825990</td>\n      <td>0.290706</td>\n      <td>NaN</td>\n    </tr>\n    <tr>\n      <th>2016-07-06</th>\n      <td>-0.219454</td>\n      <td>-0.593900</td>\n      <td>-0.143883</td>\n      <td>-1.209758</td>\n      <td>7.0</td>\n    </tr>\n  </tbody>\n</table>\n</div>",
      "text/plain": "                   A         B         C         D    F\n2016-07-01 -1.322804  0.492548 -2.569857  0.217364  1.0\n2016-07-02  0.028957 -0.584673  0.589235  0.302366  NaN\n2016-07-03 -0.776697  0.419195  1.465853  0.158839  3.5\n2016-07-04 -1.366887 -1.174615 -0.465372  0.281942  6.1\n2016-07-05 -0.105503  1.729760  0.825990  0.290706  NaN\n2016-07-06 -0.219454 -0.593900 -0.143883 -1.209758  7.0"
     },
     "execution_count": 255,
     "metadata": {},
     "output_type": "execute_result"
    }
   ],
   "source": [
    "df['F'] = [1.0, np.nan, 3.5, 6.1, np.nan, 7.0]\n",
    "df"
   ]
  },
  {
   "cell_type": "code",
   "execution_count": 256,
   "metadata": {},
   "outputs": [
    {
     "data": {
      "text/html": "<div>\n<style scoped>\n    .dataframe tbody tr th:only-of-type {\n        vertical-align: middle;\n    }\n\n    .dataframe tbody tr th {\n        vertical-align: top;\n    }\n\n    .dataframe thead th {\n        text-align: right;\n    }\n</style>\n<table border=\"1\" class=\"dataframe\">\n  <thead>\n    <tr style=\"text-align: right;\">\n      <th></th>\n      <th>A</th>\n      <th>B</th>\n      <th>C</th>\n      <th>D</th>\n      <th>F</th>\n    </tr>\n  </thead>\n  <tbody>\n    <tr>\n      <th>2016-07-01</th>\n      <td>-1.322804</td>\n      <td>0.492548</td>\n      <td>-2.569857</td>\n      <td>0.217364</td>\n      <td>1.0</td>\n    </tr>\n    <tr>\n      <th>2016-07-03</th>\n      <td>-0.776697</td>\n      <td>0.419195</td>\n      <td>1.465853</td>\n      <td>0.158839</td>\n      <td>3.5</td>\n    </tr>\n    <tr>\n      <th>2016-07-04</th>\n      <td>-1.366887</td>\n      <td>-1.174615</td>\n      <td>-0.465372</td>\n      <td>0.281942</td>\n      <td>6.1</td>\n    </tr>\n    <tr>\n      <th>2016-07-06</th>\n      <td>-0.219454</td>\n      <td>-0.593900</td>\n      <td>-0.143883</td>\n      <td>-1.209758</td>\n      <td>7.0</td>\n    </tr>\n  </tbody>\n</table>\n</div>",
      "text/plain": "                   A         B         C         D    F\n2016-07-01 -1.322804  0.492548 -2.569857  0.217364  1.0\n2016-07-03 -0.776697  0.419195  1.465853  0.158839  3.5\n2016-07-04 -1.366887 -1.174615 -0.465372  0.281942  6.1\n2016-07-06 -0.219454 -0.593900 -0.143883 -1.209758  7.0"
     },
     "execution_count": 256,
     "metadata": {},
     "output_type": "execute_result"
    }
   ],
   "source": [
    "#행의 값중 하나라도 nan인 경우 그 행을 없앤다.\n",
    "df.dropna(how='any')"
   ]
  },
  {
   "cell_type": "code",
   "execution_count": 257,
   "metadata": {},
   "outputs": [
    {
     "data": {
      "text/html": "<div>\n<style scoped>\n    .dataframe tbody tr th:only-of-type {\n        vertical-align: middle;\n    }\n\n    .dataframe tbody tr th {\n        vertical-align: top;\n    }\n\n    .dataframe thead th {\n        text-align: right;\n    }\n</style>\n<table border=\"1\" class=\"dataframe\">\n  <thead>\n    <tr style=\"text-align: right;\">\n      <th></th>\n      <th>A</th>\n      <th>B</th>\n      <th>C</th>\n      <th>D</th>\n      <th>F</th>\n    </tr>\n  </thead>\n  <tbody>\n    <tr>\n      <th>2016-07-01</th>\n      <td>-1.322804</td>\n      <td>0.492548</td>\n      <td>-2.569857</td>\n      <td>0.217364</td>\n      <td>1.0</td>\n    </tr>\n    <tr>\n      <th>2016-07-02</th>\n      <td>0.028957</td>\n      <td>-0.584673</td>\n      <td>0.589235</td>\n      <td>0.302366</td>\n      <td>NaN</td>\n    </tr>\n    <tr>\n      <th>2016-07-03</th>\n      <td>-0.776697</td>\n      <td>0.419195</td>\n      <td>1.465853</td>\n      <td>0.158839</td>\n      <td>3.5</td>\n    </tr>\n    <tr>\n      <th>2016-07-04</th>\n      <td>-1.366887</td>\n      <td>-1.174615</td>\n      <td>-0.465372</td>\n      <td>0.281942</td>\n      <td>6.1</td>\n    </tr>\n    <tr>\n      <th>2016-07-05</th>\n      <td>-0.105503</td>\n      <td>1.729760</td>\n      <td>0.825990</td>\n      <td>0.290706</td>\n      <td>NaN</td>\n    </tr>\n    <tr>\n      <th>2016-07-06</th>\n      <td>-0.219454</td>\n      <td>-0.593900</td>\n      <td>-0.143883</td>\n      <td>-1.209758</td>\n      <td>7.0</td>\n    </tr>\n  </tbody>\n</table>\n</div>",
      "text/plain": "                   A         B         C         D    F\n2016-07-01 -1.322804  0.492548 -2.569857  0.217364  1.0\n2016-07-02  0.028957 -0.584673  0.589235  0.302366  NaN\n2016-07-03 -0.776697  0.419195  1.465853  0.158839  3.5\n2016-07-04 -1.366887 -1.174615 -0.465372  0.281942  6.1\n2016-07-05 -0.105503  1.729760  0.825990  0.290706  NaN\n2016-07-06 -0.219454 -0.593900 -0.143883 -1.209758  7.0"
     },
     "execution_count": 257,
     "metadata": {},
     "output_type": "execute_result"
    }
   ],
   "source": [
    "#다시 복귀\n",
    "df.dropna(how='all')"
   ]
  },
  {
   "cell_type": "code",
   "execution_count": 258,
   "metadata": {},
   "outputs": [
    {
     "data": {
      "text/html": "<div>\n<style scoped>\n    .dataframe tbody tr th:only-of-type {\n        vertical-align: middle;\n    }\n\n    .dataframe tbody tr th {\n        vertical-align: top;\n    }\n\n    .dataframe thead th {\n        text-align: right;\n    }\n</style>\n<table border=\"1\" class=\"dataframe\">\n  <thead>\n    <tr style=\"text-align: right;\">\n      <th></th>\n      <th>A</th>\n      <th>B</th>\n      <th>C</th>\n      <th>D</th>\n      <th>F</th>\n    </tr>\n  </thead>\n  <tbody>\n    <tr>\n      <th>2016-07-01</th>\n      <td>-1.322804</td>\n      <td>0.492548</td>\n      <td>-2.569857</td>\n      <td>0.217364</td>\n      <td>1.0</td>\n    </tr>\n    <tr>\n      <th>2016-07-02</th>\n      <td>0.028957</td>\n      <td>-0.584673</td>\n      <td>0.589235</td>\n      <td>0.302366</td>\n      <td>0.5</td>\n    </tr>\n    <tr>\n      <th>2016-07-03</th>\n      <td>-0.776697</td>\n      <td>0.419195</td>\n      <td>1.465853</td>\n      <td>0.158839</td>\n      <td>3.5</td>\n    </tr>\n    <tr>\n      <th>2016-07-04</th>\n      <td>-1.366887</td>\n      <td>-1.174615</td>\n      <td>-0.465372</td>\n      <td>0.281942</td>\n      <td>6.1</td>\n    </tr>\n    <tr>\n      <th>2016-07-05</th>\n      <td>-0.105503</td>\n      <td>1.729760</td>\n      <td>0.825990</td>\n      <td>0.290706</td>\n      <td>0.5</td>\n    </tr>\n    <tr>\n      <th>2016-07-06</th>\n      <td>-0.219454</td>\n      <td>-0.593900</td>\n      <td>-0.143883</td>\n      <td>-1.209758</td>\n      <td>7.0</td>\n    </tr>\n  </tbody>\n</table>\n</div>",
      "text/plain": "                   A         B         C         D    F\n2016-07-01 -1.322804  0.492548 -2.569857  0.217364  1.0\n2016-07-02  0.028957 -0.584673  0.589235  0.302366  0.5\n2016-07-03 -0.776697  0.419195  1.465853  0.158839  3.5\n2016-07-04 -1.366887 -1.174615 -0.465372  0.281942  6.1\n2016-07-05 -0.105503  1.729760  0.825990  0.290706  0.5\n2016-07-06 -0.219454 -0.593900 -0.143883 -1.209758  7.0"
     },
     "execution_count": 258,
     "metadata": {},
     "output_type": "execute_result"
    }
   ],
   "source": [
    "# nan값에 값 넣기\n",
    "df.fillna(value=0.5)"
   ]
  },
  {
   "cell_type": "code",
   "execution_count": 259,
   "metadata": {},
   "outputs": [
    {
     "data": {
      "text/html": "<div>\n<style scoped>\n    .dataframe tbody tr th:only-of-type {\n        vertical-align: middle;\n    }\n\n    .dataframe tbody tr th {\n        vertical-align: top;\n    }\n\n    .dataframe thead th {\n        text-align: right;\n    }\n</style>\n<table border=\"1\" class=\"dataframe\">\n  <thead>\n    <tr style=\"text-align: right;\">\n      <th></th>\n      <th>A</th>\n      <th>B</th>\n      <th>C</th>\n      <th>D</th>\n      <th>F</th>\n    </tr>\n  </thead>\n  <tbody>\n    <tr>\n      <th>2016-07-01</th>\n      <td>False</td>\n      <td>False</td>\n      <td>False</td>\n      <td>False</td>\n      <td>False</td>\n    </tr>\n    <tr>\n      <th>2016-07-02</th>\n      <td>False</td>\n      <td>False</td>\n      <td>False</td>\n      <td>False</td>\n      <td>True</td>\n    </tr>\n    <tr>\n      <th>2016-07-03</th>\n      <td>False</td>\n      <td>False</td>\n      <td>False</td>\n      <td>False</td>\n      <td>False</td>\n    </tr>\n    <tr>\n      <th>2016-07-04</th>\n      <td>False</td>\n      <td>False</td>\n      <td>False</td>\n      <td>False</td>\n      <td>False</td>\n    </tr>\n    <tr>\n      <th>2016-07-05</th>\n      <td>False</td>\n      <td>False</td>\n      <td>False</td>\n      <td>False</td>\n      <td>True</td>\n    </tr>\n    <tr>\n      <th>2016-07-06</th>\n      <td>False</td>\n      <td>False</td>\n      <td>False</td>\n      <td>False</td>\n      <td>False</td>\n    </tr>\n  </tbody>\n</table>\n</div>",
      "text/plain": "                A      B      C      D      F\n2016-07-01  False  False  False  False  False\n2016-07-02  False  False  False  False   True\n2016-07-03  False  False  False  False  False\n2016-07-04  False  False  False  False  False\n2016-07-05  False  False  False  False   True\n2016-07-06  False  False  False  False  False"
     },
     "execution_count": 259,
     "metadata": {},
     "output_type": "execute_result"
    }
   ],
   "source": [
    "# 전체 값에 nan 값이 있는지 확인\n",
    "df.isnull()"
   ]
  },
  {
   "cell_type": "code",
   "execution_count": 260,
   "metadata": {},
   "outputs": [
    {
     "data": {
      "text/html": "<div>\n<style scoped>\n    .dataframe tbody tr th:only-of-type {\n        vertical-align: middle;\n    }\n\n    .dataframe tbody tr th {\n        vertical-align: top;\n    }\n\n    .dataframe thead th {\n        text-align: right;\n    }\n</style>\n<table border=\"1\" class=\"dataframe\">\n  <thead>\n    <tr style=\"text-align: right;\">\n      <th></th>\n      <th>A</th>\n      <th>B</th>\n      <th>C</th>\n      <th>D</th>\n      <th>F</th>\n    </tr>\n  </thead>\n  <tbody>\n    <tr>\n      <th>2016-07-02</th>\n      <td>0.028957</td>\n      <td>-0.584673</td>\n      <td>0.589235</td>\n      <td>0.302366</td>\n      <td>NaN</td>\n    </tr>\n    <tr>\n      <th>2016-07-05</th>\n      <td>-0.105503</td>\n      <td>1.729760</td>\n      <td>0.825990</td>\n      <td>0.290706</td>\n      <td>NaN</td>\n    </tr>\n  </tbody>\n</table>\n</div>",
      "text/plain": "                   A         B         C         D   F\n2016-07-02  0.028957 -0.584673  0.589235  0.302366 NaN\n2016-07-05 -0.105503  1.729760  0.825990  0.290706 NaN"
     },
     "execution_count": 260,
     "metadata": {},
     "output_type": "execute_result"
    }
   ],
   "source": [
    "# nan이 있는 모든 F열에 행 추출\n",
    "df.loc[df.isnull()['F'],:]"
   ]
  },
  {
   "cell_type": "code",
   "execution_count": 261,
   "metadata": {},
   "outputs": [
    {
     "data": {
      "text/plain": "Timestamp('2016-07-01 00:00:00')"
     },
     "execution_count": 261,
     "metadata": {},
     "output_type": "execute_result"
    }
   ],
   "source": [
    "pd.to_datetime('20160701')"
   ]
  },
  {
   "cell_type": "code",
   "execution_count": 262,
   "metadata": {},
   "outputs": [
    {
     "data": {
      "text/html": "<div>\n<style scoped>\n    .dataframe tbody tr th:only-of-type {\n        vertical-align: middle;\n    }\n\n    .dataframe tbody tr th {\n        vertical-align: top;\n    }\n\n    .dataframe thead th {\n        text-align: right;\n    }\n</style>\n<table border=\"1\" class=\"dataframe\">\n  <thead>\n    <tr style=\"text-align: right;\">\n      <th></th>\n      <th>A</th>\n      <th>B</th>\n      <th>C</th>\n      <th>D</th>\n      <th>F</th>\n    </tr>\n  </thead>\n  <tbody>\n    <tr>\n      <th>2016-07-02</th>\n      <td>0.028957</td>\n      <td>-0.584673</td>\n      <td>0.589235</td>\n      <td>0.302366</td>\n      <td>NaN</td>\n    </tr>\n    <tr>\n      <th>2016-07-03</th>\n      <td>-0.776697</td>\n      <td>0.419195</td>\n      <td>1.465853</td>\n      <td>0.158839</td>\n      <td>3.5</td>\n    </tr>\n    <tr>\n      <th>2016-07-04</th>\n      <td>-1.366887</td>\n      <td>-1.174615</td>\n      <td>-0.465372</td>\n      <td>0.281942</td>\n      <td>6.1</td>\n    </tr>\n    <tr>\n      <th>2016-07-05</th>\n      <td>-0.105503</td>\n      <td>1.729760</td>\n      <td>0.825990</td>\n      <td>0.290706</td>\n      <td>NaN</td>\n    </tr>\n    <tr>\n      <th>2016-07-06</th>\n      <td>-0.219454</td>\n      <td>-0.593900</td>\n      <td>-0.143883</td>\n      <td>-1.209758</td>\n      <td>7.0</td>\n    </tr>\n  </tbody>\n</table>\n</div>",
      "text/plain": "                   A         B         C         D    F\n2016-07-02  0.028957 -0.584673  0.589235  0.302366  NaN\n2016-07-03 -0.776697  0.419195  1.465853  0.158839  3.5\n2016-07-04 -1.366887 -1.174615 -0.465372  0.281942  6.1\n2016-07-05 -0.105503  1.729760  0.825990  0.290706  NaN\n2016-07-06 -0.219454 -0.593900 -0.143883 -1.209758  7.0"
     },
     "execution_count": 262,
     "metadata": {},
     "output_type": "execute_result"
    }
   ],
   "source": [
    "# 특정 행 drop\n",
    "df.drop(pd.to_datetime('20160701'))"
   ]
  },
  {
   "cell_type": "code",
   "execution_count": 263,
   "metadata": {},
   "outputs": [
    {
     "data": {
      "text/html": "<div>\n<style scoped>\n    .dataframe tbody tr th:only-of-type {\n        vertical-align: middle;\n    }\n\n    .dataframe tbody tr th {\n        vertical-align: top;\n    }\n\n    .dataframe thead th {\n        text-align: right;\n    }\n</style>\n<table border=\"1\" class=\"dataframe\">\n  <thead>\n    <tr style=\"text-align: right;\">\n      <th></th>\n      <th>A</th>\n      <th>B</th>\n      <th>C</th>\n      <th>D</th>\n      <th>F</th>\n    </tr>\n  </thead>\n  <tbody>\n    <tr>\n      <th>2016-07-02</th>\n      <td>0.028957</td>\n      <td>-0.584673</td>\n      <td>0.589235</td>\n      <td>0.302366</td>\n      <td>NaN</td>\n    </tr>\n    <tr>\n      <th>2016-07-03</th>\n      <td>-0.776697</td>\n      <td>0.419195</td>\n      <td>1.465853</td>\n      <td>0.158839</td>\n      <td>3.5</td>\n    </tr>\n    <tr>\n      <th>2016-07-05</th>\n      <td>-0.105503</td>\n      <td>1.729760</td>\n      <td>0.825990</td>\n      <td>0.290706</td>\n      <td>NaN</td>\n    </tr>\n    <tr>\n      <th>2016-07-06</th>\n      <td>-0.219454</td>\n      <td>-0.593900</td>\n      <td>-0.143883</td>\n      <td>-1.209758</td>\n      <td>7.0</td>\n    </tr>\n  </tbody>\n</table>\n</div>",
      "text/plain": "                   A         B         C         D    F\n2016-07-02  0.028957 -0.584673  0.589235  0.302366  NaN\n2016-07-03 -0.776697  0.419195  1.465853  0.158839  3.5\n2016-07-05 -0.105503  1.729760  0.825990  0.290706  NaN\n2016-07-06 -0.219454 -0.593900 -0.143883 -1.209758  7.0"
     },
     "execution_count": 263,
     "metadata": {},
     "output_type": "execute_result"
    }
   ],
   "source": [
    "#2개도 가능\n",
    "df.drop([pd.to_datetime('20160701'),pd.to_datetime('20160704')])"
   ]
  },
  {
   "cell_type": "code",
   "execution_count": 264,
   "metadata": {},
   "outputs": [
    {
     "data": {
      "text/html": "<div>\n<style scoped>\n    .dataframe tbody tr th:only-of-type {\n        vertical-align: middle;\n    }\n\n    .dataframe tbody tr th {\n        vertical-align: top;\n    }\n\n    .dataframe thead th {\n        text-align: right;\n    }\n</style>\n<table border=\"1\" class=\"dataframe\">\n  <thead>\n    <tr style=\"text-align: right;\">\n      <th></th>\n      <th>A</th>\n      <th>B</th>\n      <th>C</th>\n      <th>D</th>\n    </tr>\n  </thead>\n  <tbody>\n    <tr>\n      <th>2016-07-01</th>\n      <td>-1.322804</td>\n      <td>0.492548</td>\n      <td>-2.569857</td>\n      <td>0.217364</td>\n    </tr>\n    <tr>\n      <th>2016-07-02</th>\n      <td>0.028957</td>\n      <td>-0.584673</td>\n      <td>0.589235</td>\n      <td>0.302366</td>\n    </tr>\n    <tr>\n      <th>2016-07-03</th>\n      <td>-0.776697</td>\n      <td>0.419195</td>\n      <td>1.465853</td>\n      <td>0.158839</td>\n    </tr>\n    <tr>\n      <th>2016-07-04</th>\n      <td>-1.366887</td>\n      <td>-1.174615</td>\n      <td>-0.465372</td>\n      <td>0.281942</td>\n    </tr>\n    <tr>\n      <th>2016-07-05</th>\n      <td>-0.105503</td>\n      <td>1.729760</td>\n      <td>0.825990</td>\n      <td>0.290706</td>\n    </tr>\n    <tr>\n      <th>2016-07-06</th>\n      <td>-0.219454</td>\n      <td>-0.593900</td>\n      <td>-0.143883</td>\n      <td>-1.209758</td>\n    </tr>\n  </tbody>\n</table>\n</div>",
      "text/plain": "                   A         B         C         D\n2016-07-01 -1.322804  0.492548 -2.569857  0.217364\n2016-07-02  0.028957 -0.584673  0.589235  0.302366\n2016-07-03 -0.776697  0.419195  1.465853  0.158839\n2016-07-04 -1.366887 -1.174615 -0.465372  0.281942\n2016-07-05 -0.105503  1.729760  0.825990  0.290706\n2016-07-06 -0.219454 -0.593900 -0.143883 -1.209758"
     },
     "execution_count": 264,
     "metadata": {},
     "output_type": "execute_result"
    }
   ],
   "source": [
    "# 열 삭제 \n",
    "df.drop('F',axis=1)"
   ]
  },
  {
   "cell_type": "code",
   "execution_count": 265,
   "metadata": {},
   "outputs": [
    {
     "data": {
      "text/html": "<div>\n<style scoped>\n    .dataframe tbody tr th:only-of-type {\n        vertical-align: middle;\n    }\n\n    .dataframe tbody tr th {\n        vertical-align: top;\n    }\n\n    .dataframe thead th {\n        text-align: right;\n    }\n</style>\n<table border=\"1\" class=\"dataframe\">\n  <thead>\n    <tr style=\"text-align: right;\">\n      <th></th>\n      <th>A</th>\n      <th>C</th>\n      <th>F</th>\n    </tr>\n  </thead>\n  <tbody>\n    <tr>\n      <th>2016-07-01</th>\n      <td>-1.322804</td>\n      <td>-2.569857</td>\n      <td>1.0</td>\n    </tr>\n    <tr>\n      <th>2016-07-02</th>\n      <td>0.028957</td>\n      <td>0.589235</td>\n      <td>NaN</td>\n    </tr>\n    <tr>\n      <th>2016-07-03</th>\n      <td>-0.776697</td>\n      <td>1.465853</td>\n      <td>3.5</td>\n    </tr>\n    <tr>\n      <th>2016-07-04</th>\n      <td>-1.366887</td>\n      <td>-0.465372</td>\n      <td>6.1</td>\n    </tr>\n    <tr>\n      <th>2016-07-05</th>\n      <td>-0.105503</td>\n      <td>0.825990</td>\n      <td>NaN</td>\n    </tr>\n    <tr>\n      <th>2016-07-06</th>\n      <td>-0.219454</td>\n      <td>-0.143883</td>\n      <td>7.0</td>\n    </tr>\n  </tbody>\n</table>\n</div>",
      "text/plain": "                   A         C    F\n2016-07-01 -1.322804 -2.569857  1.0\n2016-07-02  0.028957  0.589235  NaN\n2016-07-03 -0.776697  1.465853  3.5\n2016-07-04 -1.366887 -0.465372  6.1\n2016-07-05 -0.105503  0.825990  NaN\n2016-07-06 -0.219454 -0.143883  7.0"
     },
     "execution_count": 265,
     "metadata": {},
     "output_type": "execute_result"
    }
   ],
   "source": [
    "#2개도 가능\n",
    "df.drop(['B','D'],axis=1)"
   ]
  },
  {
   "cell_type": "markdown",
   "metadata": {},
   "source": [
    "## 6. Data 분석용 함수들"
   ]
  },
  {
   "cell_type": "code",
   "execution_count": 266,
   "metadata": {},
   "outputs": [
    {
     "data": {
      "text/html": "<div>\n<style scoped>\n    .dataframe tbody tr th:only-of-type {\n        vertical-align: middle;\n    }\n\n    .dataframe tbody tr th {\n        vertical-align: top;\n    }\n\n    .dataframe thead th {\n        text-align: right;\n    }\n</style>\n<table border=\"1\" class=\"dataframe\">\n  <thead>\n    <tr style=\"text-align: right;\">\n      <th></th>\n      <th>one</th>\n      <th>two</th>\n    </tr>\n  </thead>\n  <tbody>\n    <tr>\n      <th>a</th>\n      <td>1.40</td>\n      <td>NaN</td>\n    </tr>\n    <tr>\n      <th>b</th>\n      <td>7.10</td>\n      <td>-4.5</td>\n    </tr>\n    <tr>\n      <th>c</th>\n      <td>NaN</td>\n      <td>NaN</td>\n    </tr>\n    <tr>\n      <th>d</th>\n      <td>0.75</td>\n      <td>-1.3</td>\n    </tr>\n  </tbody>\n</table>\n</div>",
      "text/plain": "    one  two\na  1.40  NaN\nb  7.10 -4.5\nc   NaN  NaN\nd  0.75 -1.3"
     },
     "execution_count": 266,
     "metadata": {},
     "output_type": "execute_result"
    }
   ],
   "source": [
    "data = [[1.4,np.nan],[7.1,-4.5],[np.nan,np.nan],[0.75,-1.3]]\n",
    "df = pd.DataFrame(data, columns=[\"one\",\"two\"],index=[\"a\",\"b\",\"c\",\"d\"])\n",
    "df"
   ]
  },
  {
   "cell_type": "code",
   "execution_count": 267,
   "metadata": {},
   "outputs": [
    {
     "name": "stdout",
     "output_type": "stream",
     "text": "one    9.25\ntwo   -5.80\ndtype: float64\n\n\na    1.40\nb    2.60\nc    0.00\nd   -0.55\ndtype: float64\n"
    }
   ],
   "source": [
    "print(df.sum(axis=0))\n",
    "print('\\n')\n",
    "print(df.sum(axis=1))"
   ]
  },
  {
   "cell_type": "code",
   "execution_count": 268,
   "metadata": {},
   "outputs": [
    {
     "data": {
      "text/plain": "a     NaN\nb    2.60\nc     NaN\nd   -0.55\ndtype: float64"
     },
     "execution_count": 268,
     "metadata": {},
     "output_type": "execute_result"
    }
   ],
   "source": [
    "# Nan 고려 skipna 옵션\n",
    "df.sum(axis=1,skipna=False)"
   ]
  },
  {
   "cell_type": "code",
   "execution_count": 269,
   "metadata": {},
   "outputs": [
    {
     "data": {
      "text/plain": "9.25"
     },
     "execution_count": 269,
     "metadata": {},
     "output_type": "execute_result"
    }
   ],
   "source": [
    "# 특정 행 또 특정 열에서만 계산하기 \n",
    "df['one'].sum()"
   ]
  },
  {
   "cell_type": "code",
   "execution_count": 270,
   "metadata": {},
   "outputs": [
    {
     "data": {
      "text/plain": "2.5999999999999996"
     },
     "execution_count": 270,
     "metadata": {},
     "output_type": "execute_result"
    }
   ],
   "source": [
    "df.loc['b'].sum()"
   ]
  },
  {
   "cell_type": "markdown",
   "metadata": {},
   "source": [
    "\n",
    "\n",
    "## pandas에서 DataFrame에 적용되는 함수들\n",
    "\n",
    "### count 전체 성분의 (NaN이 아닌) 값의 갯수를 계산\n",
    "\n",
    "### min, max 전체 성분의 최솟, 최댓값을 계산\n",
    "\n",
    "### argmin, argmax 전체 성분의 최솟값, 최댓값이 위치한 (정수)인덱스를 반환\n",
    "\n",
    "### idxmin, idxmax 전체 인덱스 중 최솟값, 최댓값을 반환\n",
    "\n",
    "### quantile 전체 성분의 특정 사분위수에 해당하는 값을 반환 (0~1 사이)\n",
    "\n",
    "### sum 전체 성분의 합을 계산\n",
    "\n",
    "### mean 전체 성분의 평균을 계산\n",
    "\n",
    "### median 전체 성분의 중간값을 반환\n",
    "\n",
    "### mad 전체 성분의 평균값으로부터의 절대 편차(absolute deviation)의 평균을 계산\n",
    "\n",
    "### std, var 전체 성분의 표준편차, 분산을 계산\n",
    "\n",
    "### cumsum 맨 첫 번째 성분부터 각 성분까지의 누적합을 계산 (0에서부터 계속 더해짐)\n",
    "\n",
    "### cumprod 맨 첫번째 성분부터 각 성분까지의 누적곱을 계산 (1에서부터 계속 곱해짐)\n",
    "\n"
   ]
  },
  {
   "cell_type": "code",
   "execution_count": 271,
   "metadata": {},
   "outputs": [
    {
     "data": {
      "text/html": "<div>\n<style scoped>\n    .dataframe tbody tr th:only-of-type {\n        vertical-align: middle;\n    }\n\n    .dataframe tbody tr th {\n        vertical-align: top;\n    }\n\n    .dataframe thead th {\n        text-align: right;\n    }\n</style>\n<table border=\"1\" class=\"dataframe\">\n  <thead>\n    <tr style=\"text-align: right;\">\n      <th></th>\n      <th>A</th>\n      <th>B</th>\n      <th>C</th>\n      <th>D</th>\n    </tr>\n  </thead>\n  <tbody>\n    <tr>\n      <th>2020-03-01</th>\n      <td>1.349023</td>\n      <td>-0.776913</td>\n      <td>-0.369389</td>\n      <td>0.235691</td>\n    </tr>\n    <tr>\n      <th>2020-03-02</th>\n      <td>-0.357390</td>\n      <td>-0.781138</td>\n      <td>0.022793</td>\n      <td>-0.022674</td>\n    </tr>\n    <tr>\n      <th>2020-03-03</th>\n      <td>-1.066161</td>\n      <td>0.224158</td>\n      <td>0.022882</td>\n      <td>0.402264</td>\n    </tr>\n    <tr>\n      <th>2020-03-04</th>\n      <td>-0.571692</td>\n      <td>0.638446</td>\n      <td>-1.569304</td>\n      <td>0.826422</td>\n    </tr>\n    <tr>\n      <th>2020-03-05</th>\n      <td>1.123008</td>\n      <td>1.263393</td>\n      <td>1.751469</td>\n      <td>-0.813192</td>\n    </tr>\n    <tr>\n      <th>2020-03-06</th>\n      <td>0.068768</td>\n      <td>-0.950413</td>\n      <td>-2.307296</td>\n      <td>1.398501</td>\n    </tr>\n  </tbody>\n</table>\n</div>",
      "text/plain": "                   A         B         C         D\n2020-03-01  1.349023 -0.776913 -0.369389  0.235691\n2020-03-02 -0.357390 -0.781138  0.022793 -0.022674\n2020-03-03 -1.066161  0.224158  0.022882  0.402264\n2020-03-04 -0.571692  0.638446 -1.569304  0.826422\n2020-03-05  1.123008  1.263393  1.751469 -0.813192\n2020-03-06  0.068768 -0.950413 -2.307296  1.398501"
     },
     "execution_count": 271,
     "metadata": {},
     "output_type": "execute_result"
    }
   ],
   "source": [
    "\n",
    "df = pd.DataFrame(np.random.randn(6,4),columns=['A','B','C','D'], index = pd.date_range('20200301',periods=6))\n",
    "df"
   ]
  },
  {
   "cell_type": "code",
   "execution_count": 272,
   "metadata": {},
   "outputs": [
    {
     "data": {
      "text/plain": "0.003500163597302889"
     },
     "execution_count": 272,
     "metadata": {},
     "output_type": "execute_result"
    }
   ],
   "source": [
    "#상관계수 구하기\n",
    "df['A'].corr(df['B'])"
   ]
  },
  {
   "cell_type": "code",
   "execution_count": 273,
   "metadata": {},
   "outputs": [
    {
     "data": {
      "text/plain": "0.7043941238134566"
     },
     "execution_count": 273,
     "metadata": {},
     "output_type": "execute_result"
    }
   ],
   "source": [
    "# 공분산 \n",
    "df['B'].cov(df['C'])"
   ]
  },
  {
   "cell_type": "markdown",
   "metadata": {},
   "source": [
    "### 정렬 함수 및 기타함수 "
   ]
  },
  {
   "cell_type": "code",
   "execution_count": 274,
   "metadata": {},
   "outputs": [
    {
     "data": {
      "text/html": "<div>\n<style scoped>\n    .dataframe tbody tr th:only-of-type {\n        vertical-align: middle;\n    }\n\n    .dataframe tbody tr th {\n        vertical-align: top;\n    }\n\n    .dataframe thead th {\n        text-align: right;\n    }\n</style>\n<table border=\"1\" class=\"dataframe\">\n  <thead>\n    <tr style=\"text-align: right;\">\n      <th></th>\n      <th>D</th>\n      <th>B</th>\n      <th>C</th>\n      <th>A</th>\n    </tr>\n  </thead>\n  <tbody>\n    <tr>\n      <th>2020-03-05</th>\n      <td>-0.813192</td>\n      <td>1.263393</td>\n      <td>1.751469</td>\n      <td>1.123008</td>\n    </tr>\n    <tr>\n      <th>2020-03-02</th>\n      <td>-0.022674</td>\n      <td>-0.781138</td>\n      <td>0.022793</td>\n      <td>-0.357390</td>\n    </tr>\n    <tr>\n      <th>2020-03-04</th>\n      <td>0.826422</td>\n      <td>0.638446</td>\n      <td>-1.569304</td>\n      <td>-0.571692</td>\n    </tr>\n    <tr>\n      <th>2020-03-01</th>\n      <td>0.235691</td>\n      <td>-0.776913</td>\n      <td>-0.369389</td>\n      <td>1.349023</td>\n    </tr>\n    <tr>\n      <th>2020-03-06</th>\n      <td>1.398501</td>\n      <td>-0.950413</td>\n      <td>-2.307296</td>\n      <td>0.068768</td>\n    </tr>\n    <tr>\n      <th>2020-03-03</th>\n      <td>0.402264</td>\n      <td>0.224158</td>\n      <td>0.022882</td>\n      <td>-1.066161</td>\n    </tr>\n  </tbody>\n</table>\n</div>",
      "text/plain": "                   D         B         C         A\n2020-03-05 -0.813192  1.263393  1.751469  1.123008\n2020-03-02 -0.022674 -0.781138  0.022793 -0.357390\n2020-03-04  0.826422  0.638446 -1.569304 -0.571692\n2020-03-01  0.235691 -0.776913 -0.369389  1.349023\n2020-03-06  1.398501 -0.950413 -2.307296  0.068768\n2020-03-03  0.402264  0.224158  0.022882 -1.066161"
     },
     "execution_count": 274,
     "metadata": {},
     "output_type": "execute_result"
    }
   ],
   "source": [
    "\n",
    "\n",
    "dates = df.index\n",
    "random_dates = np.random.permutation(dates)\n",
    "df = df.reindex(index=random_dates, columns=[\"D\", \"B\", \"C\", \"A\"])\n",
    "df\n"
   ]
  },
  {
   "cell_type": "code",
   "execution_count": 275,
   "metadata": {},
   "outputs": [
    {
     "data": {
      "text/html": "<div>\n<style scoped>\n    .dataframe tbody tr th:only-of-type {\n        vertical-align: middle;\n    }\n\n    .dataframe tbody tr th {\n        vertical-align: top;\n    }\n\n    .dataframe thead th {\n        text-align: right;\n    }\n</style>\n<table border=\"1\" class=\"dataframe\">\n  <thead>\n    <tr style=\"text-align: right;\">\n      <th></th>\n      <th>D</th>\n      <th>B</th>\n      <th>C</th>\n      <th>A</th>\n    </tr>\n  </thead>\n  <tbody>\n    <tr>\n      <th>2020-03-01</th>\n      <td>0.235691</td>\n      <td>-0.776913</td>\n      <td>-0.369389</td>\n      <td>1.349023</td>\n    </tr>\n    <tr>\n      <th>2020-03-02</th>\n      <td>-0.022674</td>\n      <td>-0.781138</td>\n      <td>0.022793</td>\n      <td>-0.357390</td>\n    </tr>\n    <tr>\n      <th>2020-03-03</th>\n      <td>0.402264</td>\n      <td>0.224158</td>\n      <td>0.022882</td>\n      <td>-1.066161</td>\n    </tr>\n    <tr>\n      <th>2020-03-04</th>\n      <td>0.826422</td>\n      <td>0.638446</td>\n      <td>-1.569304</td>\n      <td>-0.571692</td>\n    </tr>\n    <tr>\n      <th>2020-03-05</th>\n      <td>-0.813192</td>\n      <td>1.263393</td>\n      <td>1.751469</td>\n      <td>1.123008</td>\n    </tr>\n    <tr>\n      <th>2020-03-06</th>\n      <td>1.398501</td>\n      <td>-0.950413</td>\n      <td>-2.307296</td>\n      <td>0.068768</td>\n    </tr>\n  </tbody>\n</table>\n</div>",
      "text/plain": "                   D         B         C         A\n2020-03-01  0.235691 -0.776913 -0.369389  1.349023\n2020-03-02 -0.022674 -0.781138  0.022793 -0.357390\n2020-03-03  0.402264  0.224158  0.022882 -1.066161\n2020-03-04  0.826422  0.638446 -1.569304 -0.571692\n2020-03-05 -0.813192  1.263393  1.751469  1.123008\n2020-03-06  1.398501 -0.950413 -2.307296  0.068768"
     },
     "execution_count": 275,
     "metadata": {},
     "output_type": "execute_result"
    }
   ],
   "source": [
    "df.sort_index(axis=0)"
   ]
  },
  {
   "cell_type": "code",
   "execution_count": 276,
   "metadata": {},
   "outputs": [
    {
     "data": {
      "text/html": "<div>\n<style scoped>\n    .dataframe tbody tr th:only-of-type {\n        vertical-align: middle;\n    }\n\n    .dataframe tbody tr th {\n        vertical-align: top;\n    }\n\n    .dataframe thead th {\n        text-align: right;\n    }\n</style>\n<table border=\"1\" class=\"dataframe\">\n  <thead>\n    <tr style=\"text-align: right;\">\n      <th></th>\n      <th>A</th>\n      <th>B</th>\n      <th>C</th>\n      <th>D</th>\n    </tr>\n  </thead>\n  <tbody>\n    <tr>\n      <th>2020-03-05</th>\n      <td>1.123008</td>\n      <td>1.263393</td>\n      <td>1.751469</td>\n      <td>-0.813192</td>\n    </tr>\n    <tr>\n      <th>2020-03-02</th>\n      <td>-0.357390</td>\n      <td>-0.781138</td>\n      <td>0.022793</td>\n      <td>-0.022674</td>\n    </tr>\n    <tr>\n      <th>2020-03-04</th>\n      <td>-0.571692</td>\n      <td>0.638446</td>\n      <td>-1.569304</td>\n      <td>0.826422</td>\n    </tr>\n    <tr>\n      <th>2020-03-01</th>\n      <td>1.349023</td>\n      <td>-0.776913</td>\n      <td>-0.369389</td>\n      <td>0.235691</td>\n    </tr>\n    <tr>\n      <th>2020-03-06</th>\n      <td>0.068768</td>\n      <td>-0.950413</td>\n      <td>-2.307296</td>\n      <td>1.398501</td>\n    </tr>\n    <tr>\n      <th>2020-03-03</th>\n      <td>-1.066161</td>\n      <td>0.224158</td>\n      <td>0.022882</td>\n      <td>0.402264</td>\n    </tr>\n  </tbody>\n</table>\n</div>",
      "text/plain": "                   A         B         C         D\n2020-03-05  1.123008  1.263393  1.751469 -0.813192\n2020-03-02 -0.357390 -0.781138  0.022793 -0.022674\n2020-03-04 -0.571692  0.638446 -1.569304  0.826422\n2020-03-01  1.349023 -0.776913 -0.369389  0.235691\n2020-03-06  0.068768 -0.950413 -2.307296  1.398501\n2020-03-03 -1.066161  0.224158  0.022882  0.402264"
     },
     "execution_count": 276,
     "metadata": {},
     "output_type": "execute_result"
    }
   ],
   "source": [
    "df.sort_index(axis=1)"
   ]
  },
  {
   "cell_type": "code",
   "execution_count": 277,
   "metadata": {},
   "outputs": [
    {
     "data": {
      "text/html": "<div>\n<style scoped>\n    .dataframe tbody tr th:only-of-type {\n        vertical-align: middle;\n    }\n\n    .dataframe tbody tr th {\n        vertical-align: top;\n    }\n\n    .dataframe thead th {\n        text-align: right;\n    }\n</style>\n<table border=\"1\" class=\"dataframe\">\n  <thead>\n    <tr style=\"text-align: right;\">\n      <th></th>\n      <th>D</th>\n      <th>C</th>\n      <th>B</th>\n      <th>A</th>\n    </tr>\n  </thead>\n  <tbody>\n    <tr>\n      <th>2020-03-05</th>\n      <td>-0.813192</td>\n      <td>1.751469</td>\n      <td>1.263393</td>\n      <td>1.123008</td>\n    </tr>\n    <tr>\n      <th>2020-03-02</th>\n      <td>-0.022674</td>\n      <td>0.022793</td>\n      <td>-0.781138</td>\n      <td>-0.357390</td>\n    </tr>\n    <tr>\n      <th>2020-03-04</th>\n      <td>0.826422</td>\n      <td>-1.569304</td>\n      <td>0.638446</td>\n      <td>-0.571692</td>\n    </tr>\n    <tr>\n      <th>2020-03-01</th>\n      <td>0.235691</td>\n      <td>-0.369389</td>\n      <td>-0.776913</td>\n      <td>1.349023</td>\n    </tr>\n    <tr>\n      <th>2020-03-06</th>\n      <td>1.398501</td>\n      <td>-2.307296</td>\n      <td>-0.950413</td>\n      <td>0.068768</td>\n    </tr>\n    <tr>\n      <th>2020-03-03</th>\n      <td>0.402264</td>\n      <td>0.022882</td>\n      <td>0.224158</td>\n      <td>-1.066161</td>\n    </tr>\n  </tbody>\n</table>\n</div>",
      "text/plain": "                   D         C         B         A\n2020-03-05 -0.813192  1.751469  1.263393  1.123008\n2020-03-02 -0.022674  0.022793 -0.781138 -0.357390\n2020-03-04  0.826422 -1.569304  0.638446 -0.571692\n2020-03-01  0.235691 -0.369389 -0.776913  1.349023\n2020-03-06  1.398501 -2.307296 -0.950413  0.068768\n2020-03-03  0.402264  0.022882  0.224158 -1.066161"
     },
     "execution_count": 277,
     "metadata": {},
     "output_type": "execute_result"
    }
   ],
   "source": [
    "#내림차순\n",
    "df.sort_index(axis=1, ascending=False)"
   ]
  },
  {
   "cell_type": "code",
   "execution_count": 278,
   "metadata": {},
   "outputs": [
    {
     "data": {
      "text/html": "<div>\n<style scoped>\n    .dataframe tbody tr th:only-of-type {\n        vertical-align: middle;\n    }\n\n    .dataframe tbody tr th {\n        vertical-align: top;\n    }\n\n    .dataframe thead th {\n        text-align: right;\n    }\n</style>\n<table border=\"1\" class=\"dataframe\">\n  <thead>\n    <tr style=\"text-align: right;\">\n      <th></th>\n      <th>D</th>\n      <th>B</th>\n      <th>C</th>\n      <th>A</th>\n      <th>E</th>\n      <th>F</th>\n    </tr>\n  </thead>\n  <tbody>\n    <tr>\n      <th>2020-03-05</th>\n      <td>-0.813192</td>\n      <td>1.263393</td>\n      <td>1.751469</td>\n      <td>1.123008</td>\n      <td>0</td>\n      <td>alpha</td>\n    </tr>\n    <tr>\n      <th>2020-03-02</th>\n      <td>-0.022674</td>\n      <td>-0.781138</td>\n      <td>0.022793</td>\n      <td>-0.357390</td>\n      <td>4</td>\n      <td>beta</td>\n    </tr>\n    <tr>\n      <th>2020-03-04</th>\n      <td>0.826422</td>\n      <td>0.638446</td>\n      <td>-1.569304</td>\n      <td>-0.571692</td>\n      <td>0</td>\n      <td>gamma</td>\n    </tr>\n    <tr>\n      <th>2020-03-01</th>\n      <td>0.235691</td>\n      <td>-0.776913</td>\n      <td>-0.369389</td>\n      <td>1.349023</td>\n      <td>1</td>\n      <td>gamma</td>\n    </tr>\n    <tr>\n      <th>2020-03-06</th>\n      <td>1.398501</td>\n      <td>-0.950413</td>\n      <td>-2.307296</td>\n      <td>0.068768</td>\n      <td>3</td>\n      <td>alpha</td>\n    </tr>\n    <tr>\n      <th>2020-03-03</th>\n      <td>0.402264</td>\n      <td>0.224158</td>\n      <td>0.022882</td>\n      <td>-1.066161</td>\n      <td>4</td>\n      <td>gamma</td>\n    </tr>\n  </tbody>\n</table>\n</div>",
      "text/plain": "                   D         B         C         A  E      F\n2020-03-05 -0.813192  1.263393  1.751469  1.123008  0  alpha\n2020-03-02 -0.022674 -0.781138  0.022793 -0.357390  4   beta\n2020-03-04  0.826422  0.638446 -1.569304 -0.571692  0  gamma\n2020-03-01  0.235691 -0.776913 -0.369389  1.349023  1  gamma\n2020-03-06  1.398501 -0.950413 -2.307296  0.068768  3  alpha\n2020-03-03  0.402264  0.224158  0.022882 -1.066161  4  gamma"
     },
     "execution_count": 278,
     "metadata": {},
     "output_type": "execute_result"
    }
   ],
   "source": [
    "df[\"E\"] = np.random.randint(0, 6, size=6)\n",
    "df[\"F\"] = [\"alpha\", \"beta\", \"gamma\", \"gamma\", \"alpha\", \"gamma\"]\n",
    "df"
   ]
  },
  {
   "cell_type": "code",
   "execution_count": 279,
   "metadata": {},
   "outputs": [
    {
     "data": {
      "text/html": "<div>\n<style scoped>\n    .dataframe tbody tr th:only-of-type {\n        vertical-align: middle;\n    }\n\n    .dataframe tbody tr th {\n        vertical-align: top;\n    }\n\n    .dataframe thead th {\n        text-align: right;\n    }\n</style>\n<table border=\"1\" class=\"dataframe\">\n  <thead>\n    <tr style=\"text-align: right;\">\n      <th></th>\n      <th>D</th>\n      <th>B</th>\n      <th>C</th>\n      <th>A</th>\n      <th>E</th>\n      <th>F</th>\n    </tr>\n  </thead>\n  <tbody>\n    <tr>\n      <th>2020-03-05</th>\n      <td>-0.813192</td>\n      <td>1.263393</td>\n      <td>1.751469</td>\n      <td>1.123008</td>\n      <td>0</td>\n      <td>alpha</td>\n    </tr>\n    <tr>\n      <th>2020-03-04</th>\n      <td>0.826422</td>\n      <td>0.638446</td>\n      <td>-1.569304</td>\n      <td>-0.571692</td>\n      <td>0</td>\n      <td>gamma</td>\n    </tr>\n    <tr>\n      <th>2020-03-01</th>\n      <td>0.235691</td>\n      <td>-0.776913</td>\n      <td>-0.369389</td>\n      <td>1.349023</td>\n      <td>1</td>\n      <td>gamma</td>\n    </tr>\n    <tr>\n      <th>2020-03-06</th>\n      <td>1.398501</td>\n      <td>-0.950413</td>\n      <td>-2.307296</td>\n      <td>0.068768</td>\n      <td>3</td>\n      <td>alpha</td>\n    </tr>\n    <tr>\n      <th>2020-03-02</th>\n      <td>-0.022674</td>\n      <td>-0.781138</td>\n      <td>0.022793</td>\n      <td>-0.357390</td>\n      <td>4</td>\n      <td>beta</td>\n    </tr>\n    <tr>\n      <th>2020-03-03</th>\n      <td>0.402264</td>\n      <td>0.224158</td>\n      <td>0.022882</td>\n      <td>-1.066161</td>\n      <td>4</td>\n      <td>gamma</td>\n    </tr>\n  </tbody>\n</table>\n</div>",
      "text/plain": "                   D         B         C         A  E      F\n2020-03-05 -0.813192  1.263393  1.751469  1.123008  0  alpha\n2020-03-04  0.826422  0.638446 -1.569304 -0.571692  0  gamma\n2020-03-01  0.235691 -0.776913 -0.369389  1.349023  1  gamma\n2020-03-06  1.398501 -0.950413 -2.307296  0.068768  3  alpha\n2020-03-02 -0.022674 -0.781138  0.022793 -0.357390  4   beta\n2020-03-03  0.402264  0.224158  0.022882 -1.066161  4  gamma"
     },
     "execution_count": 279,
     "metadata": {},
     "output_type": "execute_result"
    }
   ],
   "source": [
    "df.sort_values(by=[\"E\",\"F\"])"
   ]
  },
  {
   "cell_type": "code",
   "execution_count": 280,
   "metadata": {},
   "outputs": [
    {
     "data": {
      "text/plain": "array(['alpha', 'beta', 'gamma'], dtype=object)"
     },
     "execution_count": 280,
     "metadata": {},
     "output_type": "execute_result"
    }
   ],
   "source": [
    "df[\"F\"].unique()"
   ]
  },
  {
   "cell_type": "code",
   "execution_count": 281,
   "metadata": {},
   "outputs": [
    {
     "data": {
      "text/plain": "gamma    3\nalpha    2\nbeta     1\nName: F, dtype: int64"
     },
     "execution_count": 281,
     "metadata": {},
     "output_type": "execute_result"
    }
   ],
   "source": [
    "df['F'].value_counts()"
   ]
  },
  {
   "cell_type": "code",
   "execution_count": 282,
   "metadata": {},
   "outputs": [
    {
     "data": {
      "text/plain": "2020-03-05     True\n2020-03-02     True\n2020-03-04    False\n2020-03-01    False\n2020-03-06     True\n2020-03-03    False\nName: F, dtype: bool"
     },
     "execution_count": 282,
     "metadata": {},
     "output_type": "execute_result"
    }
   ],
   "source": [
    "#값이 있는지 확인\n",
    "df[\"F\"].isin(['alpha','beta'])"
   ]
  },
  {
   "cell_type": "code",
   "execution_count": 283,
   "metadata": {},
   "outputs": [
    {
     "data": {
      "text/html": "<div>\n<style scoped>\n    .dataframe tbody tr th:only-of-type {\n        vertical-align: middle;\n    }\n\n    .dataframe tbody tr th {\n        vertical-align: top;\n    }\n\n    .dataframe thead th {\n        text-align: right;\n    }\n</style>\n<table border=\"1\" class=\"dataframe\">\n  <thead>\n    <tr style=\"text-align: right;\">\n      <th></th>\n      <th>b</th>\n      <th>d</th>\n      <th>e</th>\n    </tr>\n  </thead>\n  <tbody>\n    <tr>\n      <th>Seoul</th>\n      <td>1.145737</td>\n      <td>0.742289</td>\n      <td>0.262478</td>\n    </tr>\n    <tr>\n      <th>Incheon</th>\n      <td>-0.610047</td>\n      <td>0.817200</td>\n      <td>-2.937763</td>\n    </tr>\n    <tr>\n      <th>Busan</th>\n      <td>1.236774</td>\n      <td>-2.011269</td>\n      <td>-2.192971</td>\n    </tr>\n    <tr>\n      <th>Daegu</th>\n      <td>0.498211</td>\n      <td>1.624008</td>\n      <td>1.085422</td>\n    </tr>\n  </tbody>\n</table>\n</div>",
      "text/plain": "                b         d         e\nSeoul    1.145737  0.742289  0.262478\nIncheon -0.610047  0.817200 -2.937763\nBusan    1.236774 -2.011269 -2.192971\nDaegu    0.498211  1.624008  1.085422"
     },
     "execution_count": 283,
     "metadata": {},
     "output_type": "execute_result"
    }
   ],
   "source": [
    "df3 = pd.DataFrame(np.random.randn(4, 3), columns=[\"b\", \"d\", \"e\"],\n",
    "                   index=[\"Seoul\", \"Incheon\", \"Busan\", \"Daegu\"])\n",
    "df3"
   ]
  },
  {
   "cell_type": "code",
   "execution_count": 284,
   "metadata": {},
   "outputs": [],
   "source": [
    "# 힘수 정의 및 적용\n",
    "func = lambda x: x.max() - x.min()"
   ]
  },
  {
   "cell_type": "code",
   "execution_count": 285,
   "metadata": {},
   "outputs": [
    {
     "data": {
      "text/plain": "b    1.846821\nd    3.635277\ne    4.023186\ndtype: float64"
     },
     "execution_count": 285,
     "metadata": {},
     "output_type": "execute_result"
    }
   ],
   "source": [
    "df3.apply(func, axis=0)"
   ]
  },
  {
   "cell_type": "code",
   "execution_count": null,
   "metadata": {},
   "outputs": [],
   "source": []
  }
 ]
}