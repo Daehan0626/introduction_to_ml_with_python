{
 "nbformat": 4,
 "nbformat_minor": 2,
 "metadata": {
  "language_info": {
   "name": "python",
   "codemirror_mode": {
    "name": "ipython",
    "version": 3
   },
   "version": "3.7.4-final"
  },
  "orig_nbformat": 2,
  "file_extension": ".py",
  "mimetype": "text/x-python",
  "name": "python",
  "npconvert_exporter": "python",
  "pygments_lexer": "ipython3",
  "version": 3,
  "kernelspec": {
   "name": "python37464bittensorflowcondaefc329d382484ea2a212fb6bd54a6077",
   "display_name": "Python 3.7.4 64-bit ('tensorflow': conda)"
  }
 },
 "cells": [
  {
   "cell_type": "code",
   "execution_count": 1,
   "metadata": {},
   "outputs": [],
   "source": [
    "#numpy"
   ]
  },
  {
   "cell_type": "code",
   "execution_count": 10,
   "metadata": {},
   "outputs": [
    {
     "name": "stdout",
     "output_type": "stream",
     "text": "<class 'numpy.ndarray'>\n(3,)\n1 2 3\n(2, 3)\n1 2 3\n"
    }
   ],
   "source": [
    "#배열\n",
    "import numpy as np \n",
    "\n",
    "a = np.array([1,2,3])\n",
    "print(type(a))\n",
    "print(a.shape)\n",
    "print(a[0],a[1],a[2])\n",
    "a[0] = -5\n",
    "\n",
    "b = np.array([[1,2,3],[4,5,6]])\n",
    "#배열 안에 리스트 넣기\n",
    "print(b.shape)\n",
    "print(b[0,0],b[0,1],b[0,2])"
   ]
  },
  {
   "cell_type": "code",
   "execution_count": 14,
   "metadata": {},
   "outputs": [
    {
     "name": "stdout",
     "output_type": "stream",
     "text": "[[0. 0.]\n [0. 0.]]\n[[1. 1.]]\n[[7 7]\n [7 7]]\n[[1. 0.]\n [0. 1.]]\n[[0.52364835 0.93134861]\n [0.33675617 0.09965818]]\n"
    }
   ],
   "source": [
    "import numpy as np \n",
    "\n",
    "a = np.zeros((2,2))\n",
    "print(a)\n",
    "\n",
    "b = np.ones((1,2))\n",
    "print(b)\n",
    "#모든 값을 7로 채움\n",
    "c = np.full((2,2),7) \n",
    "print(c)\n",
    "#단위행렬\n",
    "d=np.eye(2)\n",
    "print(d)\n",
    "\n",
    "e = np.random.random((2,2))\n",
    "print(e)"
   ]
  },
  {
   "cell_type": "code",
   "execution_count": 15,
   "metadata": {},
   "outputs": [
    {
     "name": "stdout",
     "output_type": "stream",
     "text": "2\n[[2 3]\n [6 7]]\n77\n"
    }
   ],
   "source": [
    "#배열 인덱싱\n",
    "\n",
    "import numpy as np \n",
    "\n",
    "a = np.array([[1,2,3,4],[5,6,7,8],[9,10,11,12]])\n",
    "# 1  2  3  4\n",
    "# 5  6  7  8\n",
    "# 9 10 11 12\n",
    "b = a[:2,1:3]\n",
    "\n",
    "print(a[0,1])\n",
    "print(b)\n",
    "b[0,0] = 77\n",
    "print(a[0,1])\n",
    "#b가 바뀌면 a도 바뀜."
   ]
  },
  {
   "cell_type": "code",
   "execution_count": 20,
   "metadata": {},
   "outputs": [
    {
     "name": "stdout",
     "output_type": "stream",
     "text": "[5 6 7 8] (4,)\n[[5 6 7 8]] (1, 4)\n[ 2  6 10] (3,)\n[[ 2]\n [ 6]\n [10]] (3, 1)\n"
    }
   ],
   "source": [
    "#슬라이싱\n",
    "import numpy as np \n",
    "\n",
    "a = np.array([[1,2,3,4],[5,6,7,8],[9,10,11,12]]) \n",
    "#행 슬라이싱\n",
    "row_r1 = a[1,:]\n",
    "row_r2 = a[1:2,:]\n",
    "print(row_r1,row_r1.shape)\n",
    "print(row_r2,row_r2.shape)\n",
    "\n",
    "#열 슬라이싱\n",
    "col_r1 = a[:,1]\n",
    "col_r2 = a[:,1:2]\n",
    "print(col_r1,col_r1.shape)\n",
    "print(col_r2,col_r2.shape)"
   ]
  },
  {
   "cell_type": "code",
   "execution_count": 34,
   "metadata": {},
   "outputs": [
    {
     "name": "stdout",
     "output_type": "stream",
     "text": "[1 4 5]\n[1 4 5]\n[2 2]\n[2 2]\n"
    }
   ],
   "source": [
    "#정수 배열 인덱싱\n",
    "\n",
    "import numpy as np \n",
    "\n",
    "a = np.array([[1,2],[3,4],[5,6]])\n",
    "#     [0 1]\n",
    "# [0]  1 2\n",
    "# [1]  3 4\n",
    "# [2]  5 6\n",
    "\n",
    "print(a[[0,1,2],[0,1,0]])\n",
    "\n",
    "print (np.array([a[0, 0], a[1, 1], a[2, 0]]))\n",
    "# [0,1] [0,1] 출력\n",
    "print(a[[0, 0], [1, 1]])\n",
    "\n",
    "print (np.array([a[0, 1], a[0, 1]]))\n",
    "\n"
   ]
  },
  {
   "cell_type": "code",
   "execution_count": 37,
   "metadata": {},
   "outputs": [
    {
     "name": "stdout",
     "output_type": "stream",
     "text": "[[ 1  2  3]\n [ 4  5  6]\n [ 7  8  9]\n [10 11 12]]\n[ 1  6  7 11]\n[[11  2  3]\n [ 4  5 16]\n [17  8  9]\n [10 21 12]]\n"
    }
   ],
   "source": [
    "import numpy as np \n",
    "\n",
    "a= np.array([[1,2,3],[4,5,6],[7,8,9],[10,11,12]])\n",
    "\n",
    "print(a)\n",
    "\n",
    "b = np.array([0,2,0,1])\n",
    "\n",
    "print(a[np.arange(4),b])\n",
    "\n",
    "a[np.arange(4),b]+=10\n",
    "\n",
    "print(a)"
   ]
  },
  {
   "cell_type": "code",
   "execution_count": 39,
   "metadata": {},
   "outputs": [
    {
     "name": "stdout",
     "output_type": "stream",
     "text": "[[False False]\n [ True  True]\n [ True  True]]\n[3 4 5 6]\n[3 4 5 6]\n"
    }
   ],
   "source": [
    "#boolean array indexing\n",
    "\n",
    "a = np.array([[1,2],[3,4],[5,6]])\n",
    "\n",
    "bool_idx = (a>2)\n",
    "\n",
    "print(bool_idx)\n",
    "\n",
    "print(a[bool_idx])\n",
    "\n",
    "print(a[a>2])"
   ]
  },
  {
   "cell_type": "code",
   "execution_count": 41,
   "metadata": {},
   "outputs": [
    {
     "name": "stdout",
     "output_type": "stream",
     "text": "int32\nfloat64\nint64\n"
    }
   ],
   "source": [
    "# 자료형\n",
    "\n",
    "import numpy as np\n",
    "\n",
    "x = np.array([1,2])\n",
    "print(x.dtype)\n",
    "\n",
    "x = np.array([1.0,2.0])\n",
    "print(x.dtype)\n",
    "\n",
    "x = np.array([1,2],dtype=np.int64)\n",
    "print(x.dtype)"
   ]
  },
  {
   "cell_type": "code",
   "execution_count": 43,
   "metadata": {},
   "outputs": [
    {
     "name": "stdout",
     "output_type": "stream",
     "text": "219\n219\n[29 67]\n[29 67]\n[[19 22]\n [43 50]]\n[[19 22]\n [43 50]]\n"
    }
   ],
   "source": [
    "#연산 \n",
    "\n",
    "import numpy as np \n",
    "\n",
    "x = np.array([[1,2],[3,4]])\n",
    "y = np.array([[5,6],[7,8]])\n",
    "\n",
    "v = np.array([9,10])\n",
    "w = np.array([11,12])\n",
    "\n",
    "print(v.dot(w))\n",
    "print(np.dot(v,w))\n",
    "\n",
    "print(x.dot(v))\n",
    "print(np.dot(x,v))\n",
    "\n",
    "print(x.dot(y))\n",
    "print(np.dot(x,y))"
   ]
  },
  {
   "cell_type": "code",
   "execution_count": 44,
   "metadata": {},
   "outputs": [
    {
     "name": "stdout",
     "output_type": "stream",
     "text": "10\n[4 6]\n[3 7]\n"
    }
   ],
   "source": [
    "import numpy as np \n",
    "\n",
    "x = np.array([[1,2],[3,4]])\n",
    "\n",
    "print(np.sum(x))\n",
    "print(np.sum(x,axis=0))# 열 더하기\n",
    "print(np.sum(x,axis=1))# 행 더하기\n"
   ]
  },
  {
   "cell_type": "code",
   "execution_count": 45,
   "metadata": {},
   "outputs": [
    {
     "name": "stdout",
     "output_type": "stream",
     "text": "[[1 2]\n [3 4]]\n[[1 3]\n [2 4]]\n[1 2 3]\n[1 2 3]\n"
    }
   ],
   "source": [
    "import numpy as np \n",
    "\n",
    "x=np.array([[1,2],[3,4]])\n",
    "print(x)\n",
    "\n",
    "print(x.T)\n",
    "\n",
    "#rank 1인 배열은 변화 없음\n",
    "v=np.array([1,2,3])\n",
    "print(v)\n",
    "print(v.T)"
   ]
  },
  {
   "cell_type": "code",
   "execution_count": 60,
   "metadata": {},
   "outputs": [
    {
     "name": "stdout",
     "output_type": "stream",
     "text": "[[ 1  2  3]\n [ 4  5  6]\n [ 7  8  9]\n [10 11 12]]\n[[ 2  2  4]\n [ 5  5  7]\n [ 8  8 10]\n [11 11 13]]\n[[ 2  3  4]\n [ 4  5  6]\n [ 8  9 10]\n [10 11 12]]\n"
    }
   ],
   "source": [
    "#브로드캐스팅\n",
    "\n",
    "import numpy as np \n",
    "\n",
    "x = np.array([[1,2,3],[4,5,6],[7,8,9],[10,11,12]])\n",
    "print(x)\n",
    "v=np.array([1,0,1])\n",
    "#np.empty_like() 괄호안에 있는 배열과 사이즈가 같은 빈 행렬 생성\n",
    "y=np.empty_like(x) \n",
    "#x에 매 열 마다 v 더하기 \n",
    "\n",
    "for i in range(4):\n",
    "    y[i,:]=x[i,:]+v\n",
    "print(y)\n",
    "\n",
    "v=np.array([1,0,1,0])\n",
    "#x에 매 행 마다 v 더하기 \n",
    "for i in range(3):\n",
    "    y[:,i]=x[:,i]+v\n",
    "print(y)"
   ]
  },
  {
   "cell_type": "code",
   "execution_count": 62,
   "metadata": {},
   "outputs": [
    {
     "name": "stdout",
     "output_type": "stream",
     "text": "[[1 0 1]\n [1 0 1]\n [1 0 1]\n [1 0 1]]\n[[ 2  2  4]\n [ 5  5  7]\n [ 8  8 10]\n [11 11 13]]\n"
    }
   ],
   "source": [
    "#행렬 연산 더 빠르게\n",
    "\n",
    "import numpy as np \n",
    "\n",
    "x = np.array([[1,2,3],[4,5,6],[7,8,9],[10,11,12]])\n",
    "v = np.array([1,0,1])\n",
    "vv = np.tile(v,(4,1))\n",
    "# v 복사본이 vv에 쌓임\n",
    "print(vv)\n",
    "\n",
    "y = x + vv\n",
    "print(y)"
   ]
  },
  {
   "cell_type": "code",
   "execution_count": 63,
   "metadata": {},
   "outputs": [
    {
     "name": "stdout",
     "output_type": "stream",
     "text": "[[ 2  2  4]\n [ 5  5  7]\n [ 8  8 10]\n [11 11 13]]\n"
    }
   ],
   "source": [
    "import numpy as np \n",
    "\n",
    "x = np.array([[1,2,3],[4,5,6],[7,8,9],[10,11,12]])\n",
    "v = np.array([1,0,1])\n",
    "y = x + v\n",
    "print(y)\n",
    "\n"
   ]
  },
  {
   "cell_type": "code",
   "execution_count": 65,
   "metadata": {},
   "outputs": [],
   "source": [
    "# 두배열이 동일한 rank를 가지고 있지 않다면, 낮은 rank의 1차원 배열이 높은 rank 배열의 shape로 간주합니다.\n",
    "# 특정 차원에서 두 배열이 동일한 크기를 갖거나, 두 배열 중 하나의 크기가 1이라면 그 두 배열은 특정 차원에서 compatible하다고 여겨집니다.\n",
    "# 두 행렬이 모든 차원에서 compatible하다면, 브로드캐스팅이 가능합니다.\n",
    "# 브로드캐스팅이 이뤄지면, 각 배열 shape의 요소별 최소공배수로 이루어진 shape가 두 배열의 shape로 간주합니다.\n",
    "# 차원에 상관없이 크기가 1인 배열과 1보다 큰 배열이 있을 때, 크기가 1인 배열은 자신의 차원 수만큼 복사되어 쌓인 것처럼 간주합니다."
   ]
  },
  {
   "cell_type": "code",
   "execution_count": 80,
   "metadata": {},
   "outputs": [
    {
     "name": "stdout",
     "output_type": "stream",
     "text": "[[ 4  5]\n [ 8 10]\n [12 15]]\n[[2 4 6]\n [5 7 9]]\n[[ 5  6  7]\n [ 9 10 11]]\n[[ 5  6  7]\n [ 9 10 11]]\n[[ 2  4  6]\n [ 8 10 12]]\n"
    }
   ],
   "source": [
    "import numpy as np \n",
    "\n",
    "v = np.array([1,2,3])\n",
    "w = np.array([4,5])\n",
    "#외적 연산\n",
    "print(np.reshape(v,(3,1))*w)\n",
    "\n",
    "x = np.array([[1,2,3],[4,5,6]])\n",
    "print(x+v)\n",
    "\n",
    "print((x.T+w).T)\n",
    "\n",
    "print(x+np.reshape(w,(2,1)))\n",
    "\n",
    "print(x*2)"
   ]
  }
 ]
}