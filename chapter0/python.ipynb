{
 "nbformat": 4,
 "nbformat_minor": 2,
 "metadata": {
  "language_info": {
   "name": "python",
   "codemirror_mode": {
    "name": "ipython",
    "version": 3
   },
   "version": "3.7.4-final"
  },
  "orig_nbformat": 2,
  "file_extension": ".py",
  "mimetype": "text/x-python",
  "name": "python",
  "npconvert_exporter": "python",
  "pygments_lexer": "ipython3",
  "version": 3,
  "kernelspec": {
   "name": "python37464bittensorflowcondaefc329d382484ea2a212fb6bd54a6077",
   "display_name": "Python 3.7.4 64-bit ('tensorflow': conda)"
  }
 },
 "cells": [
  {
   "cell_type": "code",
   "execution_count": 2,
   "metadata": {},
   "outputs": [],
   "source": [
    "#파이썬"
   ]
  },
  {
   "cell_type": "code",
   "execution_count": 6,
   "metadata": {},
   "outputs": [
    {
     "name": "stdout",
     "output_type": "stream",
     "text": "[1, 1, 2, 3, 6, 8, 10]\n"
    }
   ],
   "source": [
    "def quicksort(arr):\n",
    "    if len(arr) <= 1:\n",
    "        return arr\n",
    "    pivot = arr[len(arr)//2]\n",
    "    left = [x for x in arr if x < pivot]\n",
    "    middle = [x for x in arr if x == pivot]\n",
    "    right = [x for x in arr if x > pivot]\n",
    "    return quicksort(left) + middle + quicksort(right)\n",
    "\n",
    "print(quicksort([3,6,8,10,1,2,1]))"
   ]
  },
  {
   "cell_type": "code",
   "execution_count": 7,
   "metadata": {},
   "outputs": [
    {
     "name": "stdout",
     "output_type": "stream",
     "text": "<class 'int'>\n3\n4\n2\n6\n9\n4\n<class 'float'>\n2.5 3.5 5.0 6.25\n"
    }
   ],
   "source": [
    "x=3\n",
    "print(type(x))\n",
    "print(x)\n",
    "print(x+1)\n",
    "print(x-1)\n",
    "print(x*2)\n",
    "print(x**2) # 제곱\n",
    "x+=1\n",
    "print(x)\n",
    "y=2.5\n",
    "print(type(y))\n",
    "print(y,y+1,y*2,y**2)\n"
   ]
  },
  {
   "cell_type": "code",
   "execution_count": 8,
   "metadata": {},
   "outputs": [],
   "source": [
    "#Booleans"
   ]
  },
  {
   "cell_type": "code",
   "execution_count": 9,
   "metadata": {},
   "outputs": [
    {
     "name": "stdout",
     "output_type": "stream",
     "text": "<class 'bool'>\nFalse\nTrue\nFalse\nTrue\n"
    }
   ],
   "source": [
    "t=True\n",
    "f=False\n",
    "print(type(t))\n",
    "print(t and f)\n",
    "print(t or f)\n",
    "print( not t)\n",
    "print( t != f)\n"
   ]
  },
  {
   "cell_type": "code",
   "execution_count": 10,
   "metadata": {},
   "outputs": [],
   "source": [
    "#String"
   ]
  },
  {
   "cell_type": "code",
   "execution_count": 11,
   "metadata": {},
   "outputs": [
    {
     "name": "stdout",
     "output_type": "stream",
     "text": "hello\n5\nhello world\nhello world 12\n"
    }
   ],
   "source": [
    "hello = 'hello'\n",
    "world = \"world\"\n",
    "print(hello)\n",
    "print(len(hello))\n",
    "hw = hello + ' '+ world\n",
    "print(hw)\n",
    "hw12 = '%s %s %d' %(hello, world, 12)\n",
    "print(hw12)"
   ]
  },
  {
   "cell_type": "code",
   "execution_count": 12,
   "metadata": {},
   "outputs": [
    {
     "name": "stdout",
     "output_type": "stream",
     "text": "Hello\n<built-in method upper of str object at 0x000002521A771470>\n  hello\n hello \nhe(ell)(ell)o\nworld\n"
    }
   ],
   "source": [
    "s = \"hello\"\n",
    "print(s.capitalize())\n",
    "print(s.upper)\n",
    "print(s.rjust(7)) #문자열 오른쪽 정렬\n",
    "print(s.center(7)) #문자열 가운데 정렬\n",
    "print(s.replace('l','(ell)'))\n",
    "print('    world'.strip())"
   ]
  },
  {
   "cell_type": "code",
   "execution_count": 13,
   "metadata": {},
   "outputs": [],
   "source": [
    "#컨테이너"
   ]
  },
  {
   "cell_type": "code",
   "execution_count": 15,
   "metadata": {},
   "outputs": [
    {
     "name": "stdout",
     "output_type": "stream",
     "text": "[3, 1, 2] 2\n2\n[3, 1, 'foo']\n[3, 1, 'foo', 'bar']\nbar [3, 1, 'foo']\n"
    }
   ],
   "source": [
    "#리스트\n",
    "xs=[3,1,2]\n",
    "print(xs,xs[2])\n",
    "print(xs[-1])\n",
    "xs[2] = 'foo'\n",
    "print(xs)\n",
    "xs.append('bar')\n",
    "print(xs)\n",
    "x= xs.pop() #마지막 bar 삭제\n",
    "print(x, xs)\n"
   ]
  },
  {
   "cell_type": "code",
   "execution_count": 20,
   "metadata": {},
   "outputs": [
    {
     "name": "stdout",
     "output_type": "stream",
     "text": "[0, 1, 2, 3, 4]\n[2, 3]\n[2, 3, 4]\n[0, 1]\n[0, 1, 2, 3, 4]\n[0, 1, 2, 3]\n[0, 1, 8, 9, 4]\n"
    }
   ],
   "source": [
    "#슬라이싱\n",
    "\n",
    "nums = [num for num in range(5)]\n",
    "print(nums)\n",
    "print(nums[2:4])\n",
    "print(nums[2:])\n",
    "print(nums[:2])\n",
    "print(nums[:])\n",
    "print(nums[:-1])\n",
    "nums[2:4] = [8,9]\n",
    "print(nums)"
   ]
  },
  {
   "cell_type": "code",
   "execution_count": 22,
   "metadata": {},
   "outputs": [
    {
     "name": "stdout",
     "output_type": "stream",
     "text": "#1 cat\n#2 dog\n#3 mokey\n"
    }
   ],
   "source": [
    "#반복문\n",
    "\n",
    "animals = ['cat','dog','mokey']\n",
    "# enumerate : 리스트가 있는 경우 순서와 리스트의 값을 전달\n",
    "# enumerate 열거하다\n",
    "for idx,animal in enumerate(animals):\n",
    "    print('#%d %s' %(idx+1 , animal))"
   ]
  },
  {
   "cell_type": "code",
   "execution_count": 23,
   "metadata": {},
   "outputs": [
    {
     "name": "stdout",
     "output_type": "stream",
     "text": "[0, 1, 4, 9, 16]\n"
    }
   ],
   "source": [
    "#리스트 comprehensions\n",
    "\n",
    "nums = [0,1,2,3,4]\n",
    "squares = []\n",
    "for x in nums:\n",
    "    squares.append(x**2)\n",
    "print(squares)"
   ]
  },
  {
   "cell_type": "code",
   "execution_count": 26,
   "metadata": {},
   "outputs": [
    {
     "name": "stdout",
     "output_type": "stream",
     "text": "[0, 1, 4, 9, 16]\n"
    }
   ],
   "source": [
    "nums=[0,1,2,3,4]\n",
    "squares = [x**2 for x in nums]\n",
    "print(squares)"
   ]
  },
  {
   "cell_type": "code",
   "execution_count": 31,
   "metadata": {},
   "outputs": [
    {
     "name": "stdout",
     "output_type": "stream",
     "text": "[0, 4, 16]\n"
    }
   ],
   "source": [
    "nums=[0,1,2,3,4]\n",
    "even_squares = [x**2 for x in nums if x% 2 ==0]\n",
    "print(even_squares)"
   ]
  },
  {
   "cell_type": "code",
   "execution_count": 33,
   "metadata": {},
   "outputs": [
    {
     "name": "stdout",
     "output_type": "stream",
     "text": "cute\nTrue\nwet\nN/A\nwet\nN/A\n"
    }
   ],
   "source": [
    "# 딕셔너리\n",
    "\n",
    "d = {'cat':'cute','dog':'furry'}\n",
    "print(d['cat'])\n",
    "print('cat' in d)\n",
    "d['fish']='wet'\n",
    "print(d['fish'])\n",
    "\n",
    "print(d.get('monkey','N/A'))\n",
    "print(d.get('fish','N/A'))\n",
    "del d['fish']\n",
    "print(d.get('fish','N/A'))"
   ]
  },
  {
   "cell_type": "code",
   "execution_count": 35,
   "metadata": {},
   "outputs": [
    {
     "name": "stdout",
     "output_type": "stream",
     "text": "A person han 2 legs\nA cat han 4 legs\nA spider han 8 legs\n"
    }
   ],
   "source": [
    "# 반복문 + 딕셔너리\n",
    "d = {'person':2, 'cat':4,'spider':8}\n",
    "for animal in d:\n",
    "    legs = d[animal]\n",
    "    print('A %s han %d legs' %(animal, legs))\n"
   ]
  },
  {
   "cell_type": "code",
   "execution_count": 38,
   "metadata": {},
   "outputs": [
    {
     "name": "stdout",
     "output_type": "stream",
     "text": "A person han 2 legs\nA cat han 4 legs\nA spider han 8 legs\n"
    }
   ],
   "source": [
    "d = {'person':2, 'cat':4,'spider':8}\n",
    "# 딕셔너리 접근, items\n",
    "for animal, legs in d.items():\n",
    "    print('A %s han %d legs' %(animal, legs))"
   ]
  },
  {
   "cell_type": "code",
   "execution_count": 39,
   "metadata": {},
   "outputs": [
    {
     "name": "stdout",
     "output_type": "stream",
     "text": "{0: 0, 2: 4, 4: 16}\n"
    }
   ],
   "source": [
    "nums=[0,1,2,3,4]\n",
    "even_num_to_square = {x:x**2 for x in nums if x %2 ==0}\n",
    "print(even_num_to_square)"
   ]
  },
  {
   "cell_type": "code",
   "execution_count": 41,
   "metadata": {},
   "outputs": [
    {
     "name": "stdout",
     "output_type": "stream",
     "text": "True\nFalse\nTrue\n3\n3\n2\n"
    }
   ],
   "source": [
    "#집합\n",
    "animals = {'cat','dog'}\n",
    "print('cat'in animals)\n",
    "print('fish' in animals)\n",
    "animals.add('fish')\n",
    "print('fish' in animals)\n",
    "print(len(animals))\n",
    "animals.add('cat')\n",
    "print(len(animals))\n",
    "animals.remove('cat')\n",
    "print(len(animals))"
   ]
  },
  {
   "cell_type": "code",
   "execution_count": 43,
   "metadata": {},
   "outputs": [
    {
     "name": "stdout",
     "output_type": "stream",
     "text": "#1: cat\n#2: dog\n#3: fish\n"
    }
   ],
   "source": [
    "animals={'cat','dog','fish'}\n",
    "for idx,animal in enumerate(animals):\n",
    "    print('#%d: %s' %(idx+1,animal))"
   ]
  },
  {
   "cell_type": "code",
   "execution_count": 47,
   "metadata": {},
   "outputs": [
    {
     "name": "stdout",
     "output_type": "stream",
     "text": "{0, 1, 2, 3, 4, 5}\n"
    }
   ],
   "source": [
    "from math import sqrt\n",
    "nums={int(sqrt(x)) for x in range(30)}\n",
    "#sqrt는 루트 연산\n",
    "print(nums)"
   ]
  },
  {
   "cell_type": "code",
   "execution_count": null,
   "metadata": {},
   "outputs": [],
   "source": []
  }
 ]
}